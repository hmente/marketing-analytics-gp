{
 "cells": [
  {
   "cell_type": "markdown",
   "metadata": {},
   "source": [
    "# **Marketing Project**"
   ]
  },
  {
   "cell_type": "markdown",
   "metadata": {},
   "source": [
    "# **Libraries**"
   ]
  },
  {
   "cell_type": "code",
   "execution_count": 2,
   "metadata": {
    "ExecuteTime": {
     "end_time": "2025-02-09T17:50:01.595894Z",
     "start_time": "2025-02-09T17:50:01.585808Z"
    }
   },
   "outputs": [],
   "source": [
    "import pandas as pd\n",
    "import numpy as np\n",
    "from sklearn.preprocessing import StandardScaler\n",
    "import matplotlib.pyplot as plt\n",
    "from sklearn.cluster import KMeans\n",
    "from sklearn.preprocessing import StandardScaler\n",
    "from sklearn.metrics import silhouette_score\n",
    "from sklearn.decomposition import PCA\n"
   ]
  },
  {
   "cell_type": "markdown",
   "metadata": {},
   "source": [
    "# **0. Data Preprocess**"
   ]
  },
  {
   "cell_type": "code",
   "execution_count": 3,
   "metadata": {
    "ExecuteTime": {
     "end_time": "2025-02-09T17:50:02.149546Z",
     "start_time": "2025-02-09T17:50:02.135379Z"
    }
   },
   "outputs": [
    {
     "data": {
      "text/html": [
       "<div>\n",
       "<style scoped>\n",
       "    .dataframe tbody tr th:only-of-type {\n",
       "        vertical-align: middle;\n",
       "    }\n",
       "\n",
       "    .dataframe tbody tr th {\n",
       "        vertical-align: top;\n",
       "    }\n",
       "\n",
       "    .dataframe thead th {\n",
       "        text-align: right;\n",
       "    }\n",
       "</style>\n",
       "<table border=\"1\" class=\"dataframe\">\n",
       "  <thead>\n",
       "    <tr style=\"text-align: right;\">\n",
       "      <th></th>\n",
       "      <th>Unnamed: 0</th>\n",
       "      <th>Unnamed: 1</th>\n",
       "      <th>Project Questions</th>\n",
       "      <th>Unnamed: 3</th>\n",
       "      <th>Unnamed: 4</th>\n",
       "      <th>Unnamed: 5</th>\n",
       "      <th>Unnamed: 6</th>\n",
       "      <th>Unnamed: 7</th>\n",
       "      <th>Unnamed: 8</th>\n",
       "      <th>Unnamed: 9</th>\n",
       "      <th>...</th>\n",
       "      <th>Unnamed: 28</th>\n",
       "      <th>Unnamed: 29</th>\n",
       "      <th>Unnamed: 30</th>\n",
       "      <th>Unnamed: 31</th>\n",
       "      <th>Unnamed: 32</th>\n",
       "      <th>Unnamed: 33</th>\n",
       "      <th>Unnamed: 34</th>\n",
       "      <th>Unnamed: 35</th>\n",
       "      <th>Unnamed: 36</th>\n",
       "      <th>Unnamed: 37</th>\n",
       "    </tr>\n",
       "  </thead>\n",
       "  <tbody>\n",
       "    <tr>\n",
       "      <th>0</th>\n",
       "      <td>Sr.No.</td>\n",
       "      <td>Response No</td>\n",
       "      <td>1.Have you ever participated in an outdoor or ...</td>\n",
       "      <td>2.Which of the events have you ever attended?</td>\n",
       "      <td>NaN</td>\n",
       "      <td>NaN</td>\n",
       "      <td>NaN</td>\n",
       "      <td>NaN</td>\n",
       "      <td>3.How many times per year do you typically att...</td>\n",
       "      <td>4.What is your main motivation for attending t...</td>\n",
       "      <td>...</td>\n",
       "      <td>23.I value a wide variety of activities enough...</td>\n",
       "      <td>24.I’d rather have one excellent, well-managed...</td>\n",
       "      <td>25.I prefer a basic location if it offers grea...</td>\n",
       "      <td>26.If all these factors (Price, Visual Appeal,...</td>\n",
       "      <td>27.Which single factor most often influences y...</td>\n",
       "      <td>28.Which of these statements best describes yo...</td>\n",
       "      <td>29.I often decide whether to attend an event b...</td>\n",
       "      <td>30.If you found an event that matched all your...</td>\n",
       "      <td>31.Gender</td>\n",
       "      <td>32.Age</td>\n",
       "    </tr>\n",
       "    <tr>\n",
       "      <th>1</th>\n",
       "      <td>NaN</td>\n",
       "      <td>NaN</td>\n",
       "      <td></td>\n",
       "      <td>Horseback Riding</td>\n",
       "      <td>Surfing</td>\n",
       "      <td>Hiking</td>\n",
       "      <td>Skiing</td>\n",
       "      <td>NaN</td>\n",
       "      <td></td>\n",
       "      <td></td>\n",
       "      <td>...</td>\n",
       "      <td></td>\n",
       "      <td></td>\n",
       "      <td></td>\n",
       "      <td></td>\n",
       "      <td></td>\n",
       "      <td></td>\n",
       "      <td></td>\n",
       "      <td></td>\n",
       "      <td></td>\n",
       "      <td></td>\n",
       "    </tr>\n",
       "    <tr>\n",
       "      <th>2</th>\n",
       "      <td>1</td>\n",
       "      <td>1</td>\n",
       "      <td>Yes</td>\n",
       "      <td>NaN</td>\n",
       "      <td>NaN</td>\n",
       "      <td>NaN</td>\n",
       "      <td>Skiing</td>\n",
       "      <td>NaN</td>\n",
       "      <td>1-2 times</td>\n",
       "      <td>Adventure and excitement</td>\n",
       "      <td>...</td>\n",
       "      <td>4</td>\n",
       "      <td>7</td>\n",
       "      <td>4</td>\n",
       "      <td>7</td>\n",
       "      <td>Outstanding visual and Appealing atmosphere</td>\n",
       "      <td>Experience-Focused: I’m happy to pay more for ...</td>\n",
       "      <td>7</td>\n",
       "      <td>7</td>\n",
       "      <td>Female</td>\n",
       "      <td>36</td>\n",
       "    </tr>\n",
       "    <tr>\n",
       "      <th>3</th>\n",
       "      <td>2</td>\n",
       "      <td>2</td>\n",
       "      <td>Yes</td>\n",
       "      <td>NaN</td>\n",
       "      <td>NaN</td>\n",
       "      <td>NaN</td>\n",
       "      <td>NaN</td>\n",
       "      <td>None of the above</td>\n",
       "      <td>3-5 times</td>\n",
       "      <td>Adventure and excitement</td>\n",
       "      <td>...</td>\n",
       "      <td>6</td>\n",
       "      <td>7</td>\n",
       "      <td>5</td>\n",
       "      <td>7</td>\n",
       "      <td>Broad choice of activities</td>\n",
       "      <td>Experience-Focused: I’m happy to pay more for ...</td>\n",
       "      <td>6</td>\n",
       "      <td>7</td>\n",
       "      <td>Female</td>\n",
       "      <td>33</td>\n",
       "    </tr>\n",
       "    <tr>\n",
       "      <th>4</th>\n",
       "      <td>3</td>\n",
       "      <td>3</td>\n",
       "      <td>Yes</td>\n",
       "      <td>NaN</td>\n",
       "      <td>NaN</td>\n",
       "      <td>Hiking</td>\n",
       "      <td>NaN</td>\n",
       "      <td>NaN</td>\n",
       "      <td>1-2 times</td>\n",
       "      <td>Adventure and excitement</td>\n",
       "      <td>...</td>\n",
       "      <td>4</td>\n",
       "      <td>7</td>\n",
       "      <td>4</td>\n",
       "      <td>6</td>\n",
       "      <td>Broad choice of activities</td>\n",
       "      <td>Experience-Focused: I’m happy to pay more for ...</td>\n",
       "      <td>6</td>\n",
       "      <td>7</td>\n",
       "      <td>Male</td>\n",
       "      <td>24</td>\n",
       "    </tr>\n",
       "  </tbody>\n",
       "</table>\n",
       "<p>5 rows × 38 columns</p>\n",
       "</div>"
      ],
      "text/plain": [
       "  Unnamed: 0   Unnamed: 1                                  Project Questions  \\\n",
       "0     Sr.No.  Response No  1.Have you ever participated in an outdoor or ...   \n",
       "1        NaN          NaN                                                      \n",
       "2          1            1                                                Yes   \n",
       "3          2            2                                                Yes   \n",
       "4          3            3                                                Yes   \n",
       "\n",
       "                                      Unnamed: 3 Unnamed: 4 Unnamed: 5  \\\n",
       "0  2.Which of the events have you ever attended?        NaN        NaN   \n",
       "1                               Horseback Riding    Surfing     Hiking   \n",
       "2                                            NaN        NaN        NaN   \n",
       "3                                            NaN        NaN        NaN   \n",
       "4                                            NaN        NaN     Hiking   \n",
       "\n",
       "  Unnamed: 6         Unnamed: 7  \\\n",
       "0        NaN                NaN   \n",
       "1     Skiing                NaN   \n",
       "2     Skiing                NaN   \n",
       "3        NaN  None of the above   \n",
       "4        NaN                NaN   \n",
       "\n",
       "                                          Unnamed: 8  \\\n",
       "0  3.How many times per year do you typically att...   \n",
       "1                                                      \n",
       "2                                          1-2 times   \n",
       "3                                          3-5 times   \n",
       "4                                          1-2 times   \n",
       "\n",
       "                                          Unnamed: 9  ...  \\\n",
       "0  4.What is your main motivation for attending t...  ...   \n",
       "1                                                     ...   \n",
       "2                           Adventure and excitement  ...   \n",
       "3                           Adventure and excitement  ...   \n",
       "4                           Adventure and excitement  ...   \n",
       "\n",
       "                                         Unnamed: 28  \\\n",
       "0  23.I value a wide variety of activities enough...   \n",
       "1                                                      \n",
       "2                                                  4   \n",
       "3                                                  6   \n",
       "4                                                  4   \n",
       "\n",
       "                                         Unnamed: 29  \\\n",
       "0  24.I’d rather have one excellent, well-managed...   \n",
       "1                                                      \n",
       "2                                                  7   \n",
       "3                                                  7   \n",
       "4                                                  7   \n",
       "\n",
       "                                         Unnamed: 30  \\\n",
       "0  25.I prefer a basic location if it offers grea...   \n",
       "1                                                      \n",
       "2                                                  4   \n",
       "3                                                  5   \n",
       "4                                                  4   \n",
       "\n",
       "                                         Unnamed: 31  \\\n",
       "0  26.If all these factors (Price, Visual Appeal,...   \n",
       "1                                                      \n",
       "2                                                  7   \n",
       "3                                                  7   \n",
       "4                                                  6   \n",
       "\n",
       "                                         Unnamed: 32  \\\n",
       "0  27.Which single factor most often influences y...   \n",
       "1                                                      \n",
       "2        Outstanding visual and Appealing atmosphere   \n",
       "3                         Broad choice of activities   \n",
       "4                         Broad choice of activities   \n",
       "\n",
       "                                         Unnamed: 33  \\\n",
       "0  28.Which of these statements best describes yo...   \n",
       "1                                                      \n",
       "2  Experience-Focused: I’m happy to pay more for ...   \n",
       "3  Experience-Focused: I’m happy to pay more for ...   \n",
       "4  Experience-Focused: I’m happy to pay more for ...   \n",
       "\n",
       "                                         Unnamed: 34  \\\n",
       "0  29.I often decide whether to attend an event b...   \n",
       "1                                                      \n",
       "2                                                  7   \n",
       "3                                                  6   \n",
       "4                                                  6   \n",
       "\n",
       "                                         Unnamed: 35 Unnamed: 36 Unnamed: 37  \n",
       "0  30.If you found an event that matched all your...   31.Gender      32.Age  \n",
       "1                                                                             \n",
       "2                                                  7      Female          36  \n",
       "3                                                  7      Female          33  \n",
       "4                                                  7        Male          24  \n",
       "\n",
       "[5 rows x 38 columns]"
      ]
     },
     "execution_count": 3,
     "metadata": {},
     "output_type": "execute_result"
    }
   ],
   "source": [
    "# Load the dataset from the uploaded file\n",
    "file_path = './Survey_Results_fixed.csv'\n",
    "survey_data = pd.read_csv(file_path)\n",
    "# Display the first few rows and general info about the dataset\n",
    "survey_data.head()\n"
   ]
  },
  {
   "cell_type": "code",
   "execution_count": 4,
   "metadata": {
    "ExecuteTime": {
     "end_time": "2025-02-09T17:50:02.439977Z",
     "start_time": "2025-02-09T17:50:02.434259Z"
    }
   },
   "outputs": [
    {
     "data": {
      "text/plain": [
       "['Sr.No.',\n",
       " 'Response No',\n",
       " '1.Have you ever participated in an outdoor or adventure event (e.g., surfing, hiking, horseback riding, skiing)?',\n",
       " '2.Which of the events have you ever attended?',\n",
       " nan,\n",
       " nan,\n",
       " nan,\n",
       " nan,\n",
       " '3.How many times per year do you typically attend such events?',\n",
       " '4.What is your main motivation for attending these events?',\n",
       " '5.How important is the event’s overall cost to you?',\n",
       " '6.How important is the environment’s visual and thematic appeal to you?',\n",
       " '7.How important is a scenic, easily accessible location when choosing an event?',\n",
       " '8.How important are additional amenities (e.g., food, music, freebies) to your enjoyment?',\n",
       " '9.How important is having a range of different activities within the same event?',\n",
       " '15.€20',\n",
       " '16.€30',\n",
       " '17.€40',\n",
       " '18.€50',\n",
       " '19.€60',\n",
       " '10.€75',\n",
       " '11.€100',\n",
       " '12.€125',\n",
       " '13.€150',\n",
       " '14.€175',\n",
       " '20.I’m willing to pay more if the visuals and the atmosphere of the event is particularly outstanding.',\n",
       " '21.I would pay more if the location is especially convenient or attractive.',\n",
       " '22.High-quality amenities (food, music, etc.) leads to accepting higher prices for me.',\n",
       " '23.I value a wide variety of activities enough to pay more.',\n",
       " '24.I’d rather have one excellent, well-managed activity with great atmosphere, than multiple average ones.',\n",
       " '25.I prefer a basic location if it offers great amenities (e.g., quality food, music).',\n",
       " '26.If all these factors (Price, Visual Appeal, Location, Amenities, Variety of Activites) are ideal, I am willing to pay a higher price.',\n",
       " '27.Which single factor most often influences your decision to attend an event?',\n",
       " '28.Which of these statements best describes your attitude towards paying for events?',\n",
       " '29.I often decide whether to attend an event based on friends’ or social media recommendations.',\n",
       " '30.If you found an event that matched all your preferences, how likely would you recommend it to others?',\n",
       " '31.Gender',\n",
       " '32.Age']"
      ]
     },
     "execution_count": 4,
     "metadata": {},
     "output_type": "execute_result"
    }
   ],
   "source": [
    "# Extract the first row as column headers\n",
    "columns = survey_data.iloc[0]\n",
    "survey_data_cleaned = survey_data[1:]  # Remove the first row from the data\n",
    "\n",
    "# Assign new column names\n",
    "survey_data_cleaned.columns = columns\n",
    "\n",
    "# Reset index for better organization\n",
    "survey_data_cleaned.reset_index(drop=True, inplace=True)\n",
    "\n",
    "# Display the cleaned column names for user verification\n",
    "survey_data_cleaned.columns.tolist()\n"
   ]
  },
  {
   "cell_type": "code",
   "execution_count": 5,
   "metadata": {
    "ExecuteTime": {
     "end_time": "2025-02-09T17:50:02.687793Z",
     "start_time": "2025-02-09T17:50:02.679472Z"
    }
   },
   "outputs": [
    {
     "name": "stderr",
     "output_type": "stream",
     "text": [
      "C:\\Users\\Sarja\\AppData\\Local\\Temp\\ipykernel_58632\\382338064.py:2: SettingWithCopyWarning: \n",
      "A value is trying to be set on a copy of a slice from a DataFrame\n",
      "\n",
      "See the caveats in the documentation: https://pandas.pydata.org/pandas-docs/stable/user_guide/indexing.html#returning-a-view-versus-a-copy\n",
      "  survey_data_cleaned.drop(0, axis=0, inplace=True)\n"
     ]
    },
    {
     "data": {
      "text/plain": [
       "['1. Participated',\n",
       " '2. Events',\n",
       " nan,\n",
       " nan,\n",
       " nan,\n",
       " nan,\n",
       " '3. Frequency',\n",
       " '4. Motivation',\n",
       " '5. Cost importance',\n",
       " '6. Appeals importance',\n",
       " '7. Accessibility importance',\n",
       " '8. Amenities importance',\n",
       " '9. Activities importance',\n",
       " '15.€20',\n",
       " '16.€30',\n",
       " '17.€40',\n",
       " '18.€50',\n",
       " '19.€60',\n",
       " '10.€75',\n",
       " '11.€100',\n",
       " '12.€125',\n",
       " '13.€150',\n",
       " '14.€175',\n",
       " '10. Pay extra for atmosphere',\n",
       " '11. Pay extra for location',\n",
       " '12. Pay extra for amenities',\n",
       " '13. Pay extra for activities',\n",
       " '14. Activities over everything else',\n",
       " '15. Amenities over everything else',\n",
       " '16. Everything must be perfect',\n",
       " '17. Single important factor',\n",
       " '18. Attitude towards paying',\n",
       " '19. decide on friends’ or social media recom',\n",
       " '20. Your recommendation',\n",
       " '21. Gender',\n",
       " '22. Age']"
      ]
     },
     "execution_count": 5,
     "metadata": {},
     "output_type": "execute_result"
    }
   ],
   "source": [
    "# Drop the first row & 2 columns\n",
    "survey_data_cleaned.drop(0, axis=0, inplace=True)\n",
    "survey_data_cleaned = survey_data_cleaned.drop(columns=['Sr.No.','Response No'])\n",
    "# Fixing column names\n",
    "survey_data_cleaned.columns.values[0] = '1. Participated'\n",
    "survey_data_cleaned.columns.values[1] = '2. Events'\n",
    "survey_data_cleaned.columns.values[6] = '3. Frequency'\n",
    "survey_data_cleaned.columns.values[7] = '4. Motivation'\n",
    "survey_data_cleaned.columns.values[8] = '5. Cost importance'\n",
    "survey_data_cleaned.columns.values[9] = '6. Appeals importance'\n",
    "survey_data_cleaned.columns.values[10] = '7. Accessibility importance'\n",
    "survey_data_cleaned.columns.values[11] = '8. Amenities importance'\n",
    "survey_data_cleaned.columns.values[12] = '9. Activities importance'\n",
    "survey_data_cleaned.columns.values[23] = '10. Pay extra for atmosphere'\n",
    "survey_data_cleaned.columns.values[24] = '11. Pay extra for location'\n",
    "survey_data_cleaned.columns.values[25] = '12. Pay extra for amenities'\n",
    "survey_data_cleaned.columns.values[26] = '13. Pay extra for activities'\n",
    "survey_data_cleaned.columns.values[27] = '14. Activities over everything else'\n",
    "survey_data_cleaned.columns.values[28] = '15. Amenities over everything else'\n",
    "survey_data_cleaned.columns.values[29] = '16. Everything must be perfect'\n",
    "survey_data_cleaned.columns.values[30] = '17. Single important factor'\n",
    "survey_data_cleaned.columns.values[31] = '18. Attitude towards paying'\n",
    "survey_data_cleaned.columns.values[32] = '19. decide on friends’ or social media recom'\n",
    "survey_data_cleaned.columns.values[33] = '20. Your recommendation'\n",
    "survey_data_cleaned.columns.values[34] = '21. Gender'\n",
    "survey_data_cleaned.columns.values[35] = '22. Age'\n",
    "survey_data_cleaned.columns.tolist()\n"
   ]
  },
  {
   "cell_type": "code",
   "execution_count": 6,
   "metadata": {
    "ExecuteTime": {
     "end_time": "2025-02-09T17:50:03.161250Z",
     "start_time": "2025-02-09T17:50:03.152066Z"
    }
   },
   "outputs": [
    {
     "data": {
      "text/html": [
       "<div>\n",
       "<style scoped>\n",
       "    .dataframe tbody tr th:only-of-type {\n",
       "        vertical-align: middle;\n",
       "    }\n",
       "\n",
       "    .dataframe tbody tr th {\n",
       "        vertical-align: top;\n",
       "    }\n",
       "\n",
       "    .dataframe thead th {\n",
       "        text-align: right;\n",
       "    }\n",
       "</style>\n",
       "<table border=\"1\" class=\"dataframe\">\n",
       "  <thead>\n",
       "    <tr style=\"text-align: right;\">\n",
       "      <th></th>\n",
       "      <th>2. Events</th>\n",
       "      <th>NaN</th>\n",
       "      <th>NaN</th>\n",
       "      <th>NaN</th>\n",
       "      <th>NaN</th>\n",
       "    </tr>\n",
       "  </thead>\n",
       "  <tbody>\n",
       "    <tr>\n",
       "      <th>1</th>\n",
       "      <td>NaN</td>\n",
       "      <td>NaN</td>\n",
       "      <td>NaN</td>\n",
       "      <td>Skiing</td>\n",
       "      <td>NaN</td>\n",
       "    </tr>\n",
       "    <tr>\n",
       "      <th>2</th>\n",
       "      <td>NaN</td>\n",
       "      <td>NaN</td>\n",
       "      <td>NaN</td>\n",
       "      <td>NaN</td>\n",
       "      <td>None of the above</td>\n",
       "    </tr>\n",
       "    <tr>\n",
       "      <th>3</th>\n",
       "      <td>NaN</td>\n",
       "      <td>NaN</td>\n",
       "      <td>Hiking</td>\n",
       "      <td>NaN</td>\n",
       "      <td>NaN</td>\n",
       "    </tr>\n",
       "    <tr>\n",
       "      <th>4</th>\n",
       "      <td>Horseback Riding</td>\n",
       "      <td>NaN</td>\n",
       "      <td>NaN</td>\n",
       "      <td>NaN</td>\n",
       "      <td>NaN</td>\n",
       "    </tr>\n",
       "    <tr>\n",
       "      <th>5</th>\n",
       "      <td>NaN</td>\n",
       "      <td>NaN</td>\n",
       "      <td>Hiking</td>\n",
       "      <td>NaN</td>\n",
       "      <td>NaN</td>\n",
       "    </tr>\n",
       "    <tr>\n",
       "      <th>...</th>\n",
       "      <td>...</td>\n",
       "      <td>...</td>\n",
       "      <td>...</td>\n",
       "      <td>...</td>\n",
       "      <td>...</td>\n",
       "    </tr>\n",
       "    <tr>\n",
       "      <th>65</th>\n",
       "      <td>NaN</td>\n",
       "      <td>NaN</td>\n",
       "      <td>Hiking</td>\n",
       "      <td>NaN</td>\n",
       "      <td>NaN</td>\n",
       "    </tr>\n",
       "    <tr>\n",
       "      <th>66</th>\n",
       "      <td>NaN</td>\n",
       "      <td>NaN</td>\n",
       "      <td>NaN</td>\n",
       "      <td>NaN</td>\n",
       "      <td>None of the above</td>\n",
       "    </tr>\n",
       "    <tr>\n",
       "      <th>67</th>\n",
       "      <td>NaN</td>\n",
       "      <td>NaN</td>\n",
       "      <td>NaN</td>\n",
       "      <td>NaN</td>\n",
       "      <td>None of the above</td>\n",
       "    </tr>\n",
       "    <tr>\n",
       "      <th>68</th>\n",
       "      <td>Horseback Riding</td>\n",
       "      <td>NaN</td>\n",
       "      <td>NaN</td>\n",
       "      <td>NaN</td>\n",
       "      <td>NaN</td>\n",
       "    </tr>\n",
       "    <tr>\n",
       "      <th>69</th>\n",
       "      <td>NaN</td>\n",
       "      <td>NaN</td>\n",
       "      <td>NaN</td>\n",
       "      <td>Skiing</td>\n",
       "      <td>NaN</td>\n",
       "    </tr>\n",
       "  </tbody>\n",
       "</table>\n",
       "<p>69 rows × 5 columns</p>\n",
       "</div>"
      ],
      "text/plain": [
       "0          2. Events  NaN     NaN     NaN                NaN\n",
       "1                NaN  NaN     NaN  Skiing                NaN\n",
       "2                NaN  NaN     NaN     NaN  None of the above\n",
       "3                NaN  NaN  Hiking     NaN                NaN\n",
       "4   Horseback Riding  NaN     NaN     NaN                NaN\n",
       "5                NaN  NaN  Hiking     NaN                NaN\n",
       "..               ...  ...     ...     ...                ...\n",
       "65               NaN  NaN  Hiking     NaN                NaN\n",
       "66               NaN  NaN     NaN     NaN  None of the above\n",
       "67               NaN  NaN     NaN     NaN  None of the above\n",
       "68  Horseback Riding  NaN     NaN     NaN                NaN\n",
       "69               NaN  NaN     NaN  Skiing                NaN\n",
       "\n",
       "[69 rows x 5 columns]"
      ]
     },
     "execution_count": 6,
     "metadata": {},
     "output_type": "execute_result"
    }
   ],
   "source": [
    "survey_data_cleaned.loc[::,'2. Events':survey_data_cleaned.columns.values[5]:1]\n"
   ]
  },
  {
   "cell_type": "markdown",
   "metadata": {},
   "source": [
    "### Done already"
   ]
  },
  {
   "cell_type": "code",
   "execution_count": 7,
   "metadata": {
    "ExecuteTime": {
     "end_time": "2025-02-09T17:50:04.608927Z",
     "start_time": "2025-02-09T17:50:04.568569Z"
    }
   },
   "outputs": [],
   "source": [
    "#Q1 --------------------\n",
    "# Convert the first question to binary (assuming \"Yes\" -> 1, \"No\" -> 0)\n",
    "survey_data_cleaned['1. Participated'] = survey_data_cleaned['1. Participated'].apply(lambda x: 1 if x == 'Yes' else 0)\n",
    "\n",
    "\n",
    "#Q2 ----------------------\n",
    "change_list = ['2. Events', 'Surfing', 'Hiking', 'Skiing', 'None of the above']\n",
    "# fixing column names of Q2 and the NaN values\n",
    "survey_data_cleaned.columns.values[1:6] = change_list\n",
    "\n",
    "# Function to consolidate values from all columns into one\n",
    "def consolidate_events(row):\n",
    "    # Drop NaN values and join the remaining words into a single string\n",
    "    events = row[change_list].dropna().tolist()\n",
    "    \n",
    "    # If no valid events, add 'None of the above'\n",
    "    if not events:\n",
    "        events.append('None of the above')\n",
    "    \n",
    "    # Join the list into a string\n",
    "    return ', '.join(events)\n",
    "\n",
    "# Apply the function across all rows\n",
    "survey_data_cleaned['2. Events'] = survey_data_cleaned.loc[::,'2. Events':survey_data_cleaned.columns.values[5]:1].apply(consolidate_events, axis=1)\n",
    "survey_data_cleaned.drop(columns=['Surfing', 'Hiking', 'Skiing', 'None of the above'], inplace=True)\n",
    "\n",
    "#Q3 ----------------------\n",
    "def map_frequency(value):\n",
    "    if value == '0 times':\n",
    "        return 0\n",
    "    elif value == '1-2 times':\n",
    "        return 1  # Midpoint of the range\n",
    "    elif value == '3-5 times':\n",
    "        return 2  # Midpoint of the range\n",
    "    elif value == '6+ times':\n",
    "        return 3  # Or any number representing '6+'\n",
    "    return 0  # In case there are unexpected values\n",
    "\n",
    "# Apply the mapping function to the 'Frequency' column\n",
    "survey_data_cleaned['3. Frequency'] = survey_data_cleaned['3. Frequency'].apply(map_frequency)\n",
    "\n",
    "#Q4 ----------------------\n",
    "survey_data_cleaned = pd.get_dummies(survey_data_cleaned, columns=['4. Motivation'], dtype='int')\n",
    "\n",
    "#Q10-19 ---------------------\n",
    "# Step 1: Identify columns matching the pattern `number.€price`\n",
    "import re\n",
    "\n",
    "def is_price_column(col_name):\n",
    "    # Check if the column matches the pattern `number.€price`\n",
    "    return bool(re.match(r'^\\d+\\.\\€\\d+$', col_name))\n",
    "\n",
    "# Filter the columns that are price-related\n",
    "price_columns = [col for col in survey_data_cleaned.columns if is_price_column(col)]\n",
    "price_columns\n",
    "\n",
    "# Step 2: Extract the numeric price from column names\n",
    "price_mapping = {col: float(col.split('.')[1].strip('€')) for col in price_columns}\n",
    "\n",
    "# Rename only the price columns\n",
    "survey_data_cleaned.rename(columns=price_mapping, inplace=True)\n",
    "# Step 3: Create a function to get min and max prices where response is \"Yes, I would buy.\" or \"Yes, I would buy\"\n",
    "def get_min_max_prices(row):\n",
    "    # Extract prices where the response is \"Yes, I would buy.\" OR \"Yes, I would buy\"\n",
    "    yes_prices = [\n",
    "        price for price in price_mapping.values()\n",
    "        if row.get(price) in [\"Yes, I would buy.\", \"Yes, I would buy\"]\n",
    "    ]\n",
    "    if yes_prices:\n",
    "        return pd.Series([min(yes_prices), max(yes_prices)])\n",
    "    return pd.Series([0, 0])\n",
    "# Step 4: Apply the function to the DataFrame\n",
    "\n",
    "survey_data_cleaned[['min_total_price', 'max_total_price']] = survey_data_cleaned.apply(get_min_max_prices, axis=1)\n",
    "survey_data_cleaned[['min_surfing_price', 'max_surfing_price']] = survey_data_cleaned.iloc[:,13:18].apply(get_min_max_prices, axis=1)\n",
    "survey_data_cleaned[['min_horse_price', 'max_horse_price']] = survey_data_cleaned.iloc[:,8:13].apply(get_min_max_prices, axis=1)\n",
    "\n",
    "survey_data_cleaned.drop(columns=[75.0, 100.0, 125.0, 150.0, 175.0, 20.0, 30.0, 40.0, 50.0, 60.0], inplace=True)\n",
    "\n",
    "#Q17 ----------------------\n",
    "survey_data_cleaned = pd.get_dummies(survey_data_cleaned, columns=['17. Single important factor'], dtype='int')\n",
    "\n",
    "#Q18 ---------------------\n",
    "def map_frequency_q18(value):\n",
    "    if value == 'Cost-Focused: I tend to choose the cheapest options':\n",
    "        return 1\n",
    "    elif value == 'Spontaneous: It varies; I decide case by case':\n",
    "        return 2  # Midpoint of the range\n",
    "    elif value == 'Balanced: I pay more only if it truly seems worth it':\n",
    "        return 3  # Midpoint of the range\n",
    "    elif value == \"Experience-Focused: I’m happy to pay more for a unique experience\":\n",
    "        return 4  # Or any number representing '6+'\n",
    "    return 0  # In case there are unexpected values\n",
    "\n",
    "# Apply the mapping function to the 'Frequency' column\n",
    "survey_data_cleaned['18. Attitude towards paying'] = survey_data_cleaned['18. Attitude towards paying'].apply(map_frequency_q18)\n"
   ]
  },
  {
   "cell_type": "markdown",
   "metadata": {},
   "source": [
    "### Converting the Categorical columns (2. Events, 21. Gender)"
   ]
  },
  {
   "cell_type": "code",
   "execution_count": 8,
   "metadata": {
    "ExecuteTime": {
     "end_time": "2025-02-09T17:50:06.320967Z",
     "start_time": "2025-02-09T17:50:06.311243Z"
    }
   },
   "outputs": [
    {
     "data": {
      "text/html": [
       "<div>\n",
       "<style scoped>\n",
       "    .dataframe tbody tr th:only-of-type {\n",
       "        vertical-align: middle;\n",
       "    }\n",
       "\n",
       "    .dataframe tbody tr th {\n",
       "        vertical-align: top;\n",
       "    }\n",
       "\n",
       "    .dataframe thead th {\n",
       "        text-align: right;\n",
       "    }\n",
       "</style>\n",
       "<table border=\"1\" class=\"dataframe\">\n",
       "  <thead>\n",
       "    <tr style=\"text-align: right;\">\n",
       "      <th></th>\n",
       "      <th>1. Participated</th>\n",
       "      <th>3. Frequency</th>\n",
       "      <th>5. Cost importance</th>\n",
       "      <th>6. Appeals importance</th>\n",
       "      <th>7. Accessibility importance</th>\n",
       "      <th>8. Amenities importance</th>\n",
       "      <th>9. Activities importance</th>\n",
       "      <th>10. Pay extra for atmosphere</th>\n",
       "      <th>11. Pay extra for location</th>\n",
       "      <th>12. Pay extra for amenities</th>\n",
       "      <th>...</th>\n",
       "      <th>2. Events_Hiking</th>\n",
       "      <th>2. Events_Hiking, Skiing</th>\n",
       "      <th>2. Events_Horseback Riding</th>\n",
       "      <th>2. Events_Horseback Riding, Hiking</th>\n",
       "      <th>2. Events_Horseback Riding, Hiking, Skiing</th>\n",
       "      <th>2. Events_None of the above</th>\n",
       "      <th>2. Events_Skiing</th>\n",
       "      <th>2. Events_Surfing</th>\n",
       "      <th>2. Events_Surfing, Hiking</th>\n",
       "      <th>2. Events_Surfing, Skiing</th>\n",
       "    </tr>\n",
       "  </thead>\n",
       "  <tbody>\n",
       "    <tr>\n",
       "      <th>1</th>\n",
       "      <td>1</td>\n",
       "      <td>1</td>\n",
       "      <td>6</td>\n",
       "      <td>6</td>\n",
       "      <td>7</td>\n",
       "      <td>7</td>\n",
       "      <td>6</td>\n",
       "      <td>7</td>\n",
       "      <td>7</td>\n",
       "      <td>7</td>\n",
       "      <td>...</td>\n",
       "      <td>0</td>\n",
       "      <td>0</td>\n",
       "      <td>0</td>\n",
       "      <td>0</td>\n",
       "      <td>0</td>\n",
       "      <td>0</td>\n",
       "      <td>1</td>\n",
       "      <td>0</td>\n",
       "      <td>0</td>\n",
       "      <td>0</td>\n",
       "    </tr>\n",
       "    <tr>\n",
       "      <th>2</th>\n",
       "      <td>1</td>\n",
       "      <td>2</td>\n",
       "      <td>5</td>\n",
       "      <td>3</td>\n",
       "      <td>6</td>\n",
       "      <td>5</td>\n",
       "      <td>4</td>\n",
       "      <td>7</td>\n",
       "      <td>1</td>\n",
       "      <td>6</td>\n",
       "      <td>...</td>\n",
       "      <td>0</td>\n",
       "      <td>0</td>\n",
       "      <td>0</td>\n",
       "      <td>0</td>\n",
       "      <td>0</td>\n",
       "      <td>1</td>\n",
       "      <td>0</td>\n",
       "      <td>0</td>\n",
       "      <td>0</td>\n",
       "      <td>0</td>\n",
       "    </tr>\n",
       "    <tr>\n",
       "      <th>3</th>\n",
       "      <td>1</td>\n",
       "      <td>1</td>\n",
       "      <td>4</td>\n",
       "      <td>6</td>\n",
       "      <td>5</td>\n",
       "      <td>6</td>\n",
       "      <td>4</td>\n",
       "      <td>5</td>\n",
       "      <td>6</td>\n",
       "      <td>5</td>\n",
       "      <td>...</td>\n",
       "      <td>1</td>\n",
       "      <td>0</td>\n",
       "      <td>0</td>\n",
       "      <td>0</td>\n",
       "      <td>0</td>\n",
       "      <td>0</td>\n",
       "      <td>0</td>\n",
       "      <td>0</td>\n",
       "      <td>0</td>\n",
       "      <td>0</td>\n",
       "    </tr>\n",
       "    <tr>\n",
       "      <th>4</th>\n",
       "      <td>1</td>\n",
       "      <td>1</td>\n",
       "      <td>4</td>\n",
       "      <td>6</td>\n",
       "      <td>6</td>\n",
       "      <td>6</td>\n",
       "      <td>6</td>\n",
       "      <td>5</td>\n",
       "      <td>6</td>\n",
       "      <td>4</td>\n",
       "      <td>...</td>\n",
       "      <td>0</td>\n",
       "      <td>0</td>\n",
       "      <td>1</td>\n",
       "      <td>0</td>\n",
       "      <td>0</td>\n",
       "      <td>0</td>\n",
       "      <td>0</td>\n",
       "      <td>0</td>\n",
       "      <td>0</td>\n",
       "      <td>0</td>\n",
       "    </tr>\n",
       "    <tr>\n",
       "      <th>5</th>\n",
       "      <td>1</td>\n",
       "      <td>2</td>\n",
       "      <td>5</td>\n",
       "      <td>6</td>\n",
       "      <td>4</td>\n",
       "      <td>3</td>\n",
       "      <td>5</td>\n",
       "      <td>4</td>\n",
       "      <td>5</td>\n",
       "      <td>4</td>\n",
       "      <td>...</td>\n",
       "      <td>1</td>\n",
       "      <td>0</td>\n",
       "      <td>0</td>\n",
       "      <td>0</td>\n",
       "      <td>0</td>\n",
       "      <td>0</td>\n",
       "      <td>0</td>\n",
       "      <td>0</td>\n",
       "      <td>0</td>\n",
       "      <td>0</td>\n",
       "    </tr>\n",
       "  </tbody>\n",
       "</table>\n",
       "<p>5 rows × 45 columns</p>\n",
       "</div>"
      ],
      "text/plain": [
       "   1. Participated  3. Frequency 5. Cost importance 6. Appeals importance  \\\n",
       "1                1             1                  6                     6   \n",
       "2                1             2                  5                     3   \n",
       "3                1             1                  4                     6   \n",
       "4                1             1                  4                     6   \n",
       "5                1             2                  5                     6   \n",
       "\n",
       "  7. Accessibility importance 8. Amenities importance  \\\n",
       "1                           7                       7   \n",
       "2                           6                       5   \n",
       "3                           5                       6   \n",
       "4                           6                       6   \n",
       "5                           4                       3   \n",
       "\n",
       "  9. Activities importance 10. Pay extra for atmosphere  \\\n",
       "1                        6                            7   \n",
       "2                        4                            7   \n",
       "3                        4                            5   \n",
       "4                        6                            5   \n",
       "5                        5                            4   \n",
       "\n",
       "  11. Pay extra for location 12. Pay extra for amenities  ...  \\\n",
       "1                          7                           7  ...   \n",
       "2                          1                           6  ...   \n",
       "3                          6                           5  ...   \n",
       "4                          6                           4  ...   \n",
       "5                          5                           4  ...   \n",
       "\n",
       "  2. Events_Hiking 2. Events_Hiking, Skiing 2. Events_Horseback Riding  \\\n",
       "1                0                        0                          0   \n",
       "2                0                        0                          0   \n",
       "3                1                        0                          0   \n",
       "4                0                        0                          1   \n",
       "5                1                        0                          0   \n",
       "\n",
       "  2. Events_Horseback Riding, Hiking  \\\n",
       "1                                  0   \n",
       "2                                  0   \n",
       "3                                  0   \n",
       "4                                  0   \n",
       "5                                  0   \n",
       "\n",
       "   2. Events_Horseback Riding, Hiking, Skiing 2. Events_None of the above  \\\n",
       "1                                           0                           0   \n",
       "2                                           0                           1   \n",
       "3                                           0                           0   \n",
       "4                                           0                           0   \n",
       "5                                           0                           0   \n",
       "\n",
       "  2. Events_Skiing  2. Events_Surfing 2. Events_Surfing, Hiking  \\\n",
       "1                1                  0                         0   \n",
       "2                0                  0                         0   \n",
       "3                0                  0                         0   \n",
       "4                0                  0                         0   \n",
       "5                0                  0                         0   \n",
       "\n",
       "   2. Events_Surfing, Skiing  \n",
       "1                          0  \n",
       "2                          0  \n",
       "3                          0  \n",
       "4                          0  \n",
       "5                          0  \n",
       "\n",
       "[5 rows x 45 columns]"
      ]
     },
     "execution_count": 8,
     "metadata": {},
     "output_type": "execute_result"
    }
   ],
   "source": [
    "survey_data_cleaned[\"21. Gender\"] = survey_data_cleaned[\"21. Gender\"].map({\"Male\": 0, \"Female\": 1})  # Convert Gender to 0/1\n",
    "survey_data_cleaned = pd.get_dummies(survey_data_cleaned, columns=[\"2. Events\"], dtype='int')  # One-hot encode \"Events\" column\n",
    "\n",
    "#Q5 ----------------------\n",
    "#Q6 ----------------------\n",
    "#Q7 ----------------------\n",
    "#Q8 ----------------------\n",
    "#Q9 ----------------------\n",
    "\n",
    "#Q20 ---------------------\n",
    "#Q21 ---------------------\n",
    "#Q22 ---------------------\n",
    "\n",
    "# Show the updated DataFrame\n",
    "survey_data_cleaned.head()\n"
   ]
  },
  {
   "cell_type": "code",
   "execution_count": 9,
   "metadata": {
    "ExecuteTime": {
     "end_time": "2025-02-09T17:50:06.890218Z",
     "start_time": "2025-02-09T17:50:06.839518Z"
    }
   },
   "outputs": [
    {
     "name": "stdout",
     "output_type": "stream",
     "text": [
      "File saved successfully as 'survey_results.xlsx'\n"
     ]
    }
   ],
   "source": [
    "# Save the result DataFrame to an Excel file\n",
    "survey_data_cleaned.to_excel(\"survey_data_cleaned.xlsx\", index=False)\n",
    "\n",
    "print(\"File saved successfully as 'survey_results.xlsx'\")\n"
   ]
  },
  {
   "cell_type": "markdown",
   "metadata": {},
   "source": [
    "# **1. Behavioral customer segmentation**"
   ]
  },
  {
   "cell_type": "markdown",
   "metadata": {},
   "source": [
    "### RFM"
   ]
  },
  {
   "cell_type": "markdown",
   "metadata": {},
   "source": [
    "### Recency, Frequency and Monetary\n",
    "\n",
    "'''Recency → How recently the customer attended an event (Column: \"1. Participated\")\n",
    "\n",
    "Frequency → How often they attend events (Column: \"3. Frequency\")\n",
    "\n",
    "Monetary → Their willingness to pay or cost importance (Column: \"5. Cost importance\" or min/max price columns)'''\n"
   ]
  },
  {
   "cell_type": "code",
   "execution_count": 10,
   "metadata": {
    "ExecuteTime": {
     "end_time": "2025-02-09T17:50:09.702585Z",
     "start_time": "2025-02-09T17:50:09.697780Z"
    }
   },
   "outputs": [],
   "source": [
    "# Step 1: Define RFM Metrics\n",
    "rfm = survey_data_cleaned[[\"1. Participated\", \"3. Frequency\", \"5. Cost importance\"]].copy()\n",
    "rfm.columns = [\"Recency\", \"Frequency\", \"Monetary\"]  # Rename for clarity\n"
   ]
  },
  {
   "cell_type": "code",
   "execution_count": 11,
   "metadata": {
    "ExecuteTime": {
     "end_time": "2025-02-09T17:50:10.671412Z",
     "start_time": "2025-02-09T17:50:10.664606Z"
    }
   },
   "outputs": [],
   "source": [
    "# Step 2: Normalize the Data\n",
    "scaler = StandardScaler()\n",
    "rfm_scaled = scaler.fit_transform(rfm)\n"
   ]
  },
  {
   "cell_type": "code",
   "execution_count": 12,
   "metadata": {
    "ExecuteTime": {
     "end_time": "2025-02-09T17:50:11.261545Z",
     "start_time": "2025-02-09T17:50:11.252928Z"
    }
   },
   "outputs": [],
   "source": [
    "# Step 3: Assign RFM Scores (Simple Percentiles)\n",
    "rfm[\"R_Score\"] = pd.qcut(rfm[\"Recency\"].rank(method=\"first\"), 4, labels=[4, 3, 2, 1])\n",
    "rfm[\"F_Score\"] = pd.qcut(rfm[\"Frequency\"].rank(method=\"first\"), 4, labels=[1, 2, 3, 4])\n",
    "rfm[\"M_Score\"] = pd.qcut(rfm[\"Monetary\"].rank(method=\"first\"), 4, labels=[1, 2, 3, 4])\n"
   ]
  },
  {
   "cell_type": "code",
   "execution_count": 13,
   "metadata": {
    "ExecuteTime": {
     "end_time": "2025-02-09T17:50:11.710525Z",
     "start_time": "2025-02-09T17:50:11.707185Z"
    }
   },
   "outputs": [],
   "source": [
    "# Step 4: Create Final RFM Segments\n",
    "rfm[\"RFM_Score\"] = rfm[[\"R_Score\", \"F_Score\", \"M_Score\"]].sum(axis=1)\n"
   ]
  },
  {
   "cell_type": "code",
   "execution_count": 14,
   "metadata": {
    "ExecuteTime": {
     "end_time": "2025-02-09T17:50:12.058605Z",
     "start_time": "2025-02-09T17:50:12.044635Z"
    }
   },
   "outputs": [
    {
     "name": "stdout",
     "output_type": "stream",
     "text": [
      "   Recency  Frequency Monetary R_Score F_Score M_Score  RFM_Score  \\\n",
      "1        1          1        6       4       1       3          8   \n",
      "2        1          2        5       4       3       2          9   \n",
      "3        1          1        4       4       1       1          6   \n",
      "4        1          1        4       4       1       1          6   \n",
      "5        1          2        5       4       3       2          9   \n",
      "\n",
      "           Segment  \n",
      "1  Loyal Customers  \n",
      "2   Best Customers  \n",
      "3  Loyal Customers  \n",
      "4  Loyal Customers  \n",
      "5   Best Customers  \n"
     ]
    }
   ],
   "source": [
    "# Define Customer Segments\n",
    "seg_map = {\n",
    "    (9, 10, 11, 12): \"Best Customers\",\n",
    "    (5, 6, 7, 8): \"Loyal Customers\",\n",
    "    (3, 4): \"Potential Customers\",\n",
    "    (1, 2): \"At Risk\"\n",
    "}\n",
    "\n",
    "rfm[\"Segment\"] = rfm[\"RFM_Score\"].apply(lambda x: next((v for k, v in seg_map.items() if x in k), \"Others\"))\n",
    "\n",
    "# Step 5: Save Results\n",
    "rfm.to_csv(\"rfm_segments.csv\", index=False)\n",
    "print(rfm.head())\n"
   ]
  },
  {
   "cell_type": "markdown",
   "metadata": {},
   "source": [
    "# **2. Pricing Analysis**"
   ]
  },
  {
   "cell_type": "markdown",
   "metadata": {},
   "source": [
    "\n",
    "\n",
    "### 1️⃣ Introduction\n",
    "This analysis focuses on **optimal pricing strategies** for **Surfing and Horse Riding** using:\n",
    "- **Revenue Maximization**\n",
    "- **Optimal Price Selection**\n",
    "- **Comparison of Different Price Points**\n",
    "\n",
    "We used **valid price levels** for each activity:\n",
    "- **Surfing:** 75€, 100€, 125€, 150€, 175€\n",
    "- **Horse Riding:** 20€, 30€, 40€, 50€, 60€"
   ]
  },
  {
   "cell_type": "code",
   "execution_count": 53,
   "metadata": {
    "ExecuteTime": {
     "end_time": "2025-02-09T17:57:07.983695Z",
     "start_time": "2025-02-09T17:57:07.744929Z"
    }
   },
   "outputs": [
    {
     "data": {
      "image/png": "[encoded data removed]",
      "text/plain": [
       "<Figure size 1000x500 with 1 Axes>"
      ]
     },
     "metadata": {},
     "output_type": "display_data"
    },
    {
     "data": {
      "image/png": "[encoded data removed]",
      "text/plain": [
       "<Figure size 1000x500 with 1 Axes>"
      ]
     },
     "metadata": {},
     "output_type": "display_data"
    },
    {
     "name": "stdout",
     "output_type": "stream",
     "text": [
      "\n",
      "📌 **Optimal Pricing Results**\n",
      "🔹 **Surfing**: Optimal Price = 75 €, Max Revenue = 4050 €, Customers = 54\n",
      "🔹 **Horse Riding**: Optimal Price = 30 €, Max Revenue = 1650 €, Customers = 55\n"
     ]
    }
   ],
   "source": [
    "pricing_df = survey_data_cleaned.copy()\n",
    "\n",
    "valid_prices = {\n",
    "    \"surfing\": [75, 100, 125, 150, 175],\n",
    "    \"horse_riding\": [20, 30, 40, 50, 60]\n",
    "}\n",
    "\n",
    "def compute_revenue(price_levels, event):\n",
    "    \"\"\"Computes revenue at each price level based on users willing to pay that amount.\"\"\"\n",
    "    revenues = []\n",
    "    willing_customers = []\n",
    "\n",
    "    for price in price_levels:\n",
    "        willing_to_pay = pricing_df[(pricing_df[f\"min_{event}_price\"] <= price) & \n",
    "                                    (pricing_df[f\"max_{event}_price\"] >= price)]\n",
    "        revenue = price * len(willing_to_pay)\n",
    "        revenues.append(revenue)\n",
    "        willing_customers.append(len(willing_to_pay))\n",
    "\n",
    "    return revenues, willing_customers\n",
    "\n",
    "# Compute revenues and number of customers for valid price levels\n",
    "surfing_revenues, surfing_customers = compute_revenue(valid_prices[\"surfing\"], \"surfing\")\n",
    "horse_revenues, horse_customers = compute_revenue(valid_prices[\"horse_riding\"], \"horse\")\n",
    "\n",
    "# Step 3: Identify the optimal price that maximizes revenue\n",
    "def find_optimal_price(price_levels, revenues, customers):\n",
    "    \"\"\"Finds the price level with the highest revenue and returns details.\"\"\"\n",
    "    max_index = np.argmax(revenues)\n",
    "    optimal_price = price_levels[max_index]\n",
    "    max_revenue = revenues[max_index]\n",
    "    num_customers = customers[max_index]\n",
    "\n",
    "    return optimal_price, max_revenue, num_customers\n",
    "\n",
    "# Get optimal prices for Surfing and Horse Riding\n",
    "optimal_surfing_price, max_surfing_revenue, surfing_customers_at_optimal = find_optimal_price(valid_prices[\"surfing\"], surfing_revenues, surfing_customers)\n",
    "optimal_horse_price, max_horse_revenue, horse_customers_at_optimal = find_optimal_price(valid_prices[\"horse_riding\"], horse_revenues, horse_customers)\n",
    "\n",
    "# Step 4: Plot Revenue Curves with Optimal Price\n",
    "def plot_revenue_curve(price_levels, revenues, optimal_price, max_revenue, title):\n",
    "    \"\"\"Plots the revenue maximization curve and marks the optimal price.\"\"\"\n",
    "    plt.figure(figsize=(10, 5))\n",
    "    plt.plot(price_levels, revenues, marker='o', linestyle='-', color='green', label=\"Revenue\")\n",
    "    plt.axvline(optimal_price, color='red', linestyle='--', label=f'Optimal Price: {optimal_price}€')\n",
    "    plt.scatter(optimal_price, max_revenue, color='red', s=100, label=f\"Max Revenue: {max_revenue}€\")\n",
    "    plt.xlabel(\"Price (€)\")\n",
    "    plt.ylabel(\"Revenue (€)\")\n",
    "    plt.title(f\"Revenue Maximization Curve for {title}\")\n",
    "    plt.legend()\n",
    "    plt.grid(True)\n",
    "    plt.show()\n",
    "\n",
    "# Plot for Surfing and Horse Riding\n",
    "plot_revenue_curve(valid_prices[\"surfing\"], surfing_revenues, optimal_surfing_price, max_surfing_revenue, \"Surfing\")\n",
    "plot_revenue_curve(valid_prices[\"horse_riding\"], horse_revenues, optimal_horse_price, max_horse_revenue, \"Horse Riding\")\n",
    "\n",
    "# Step 5: Print the optimal price findings\n",
    "print(\"\\n📌 **Optimal Pricing Results**\")\n",
    "print(f\"🔹 **Surfing**: Optimal Price = {optimal_surfing_price} €, Max Revenue = {max_surfing_revenue} €, Customers = {surfing_customers_at_optimal}\")\n",
    "print(f\"🔹 **Horse Riding**: Optimal Price = {optimal_horse_price} €, Max Revenue = {max_horse_revenue} €, Customers = {horse_customers_at_optimal}\")\n"
   ]
  },
  {
   "cell_type": "markdown",
   "metadata": {},
   "source": [
    "### 2️⃣ Revenue Maximization Results\n",
    "#### 🔹 Surfing\n",
    "- Optimal Price: **75€**\n",
    "- Max Revenue: **4050€**\n",
    "- Demand sharply declines after 75€, causing a revenue drop.\n",
    "- Pricing above 75€ reduces total revenue significantly.\n",
    "  \n",
    "💡 **Insight:** 75€ is the best trade-off between price and demand. Setting a higher price causes a sharp decline in customers. Increasing prices beyond 75€ reduces customer willingness to pay, leading to lower revenue.\n",
    "\n",
    "#### 🔹 Horse Riding\n",
    "- Optimal Price: **30€**\n",
    "- Max Revenue: **1650€**\n",
    "- Revenue remains stable at 40€, but drops significantly at 50€.\n",
    "- Lower prices attract more customers, maximizing revenue.\n",
    "  \n",
    "💡 **Insight:** 30€ is the best price, but 40€ might also be a good alternative as revenue is stable before dropping at 50€.\n",
    "\n",
    "---\n",
    "\n",
    "### **3️⃣ Interpretation & Business Logic**\n",
    "| Sport | Expected Behavior | Model Matches? |\n",
    "|--------|-----------------|----------------|\n",
    "| **Surfing** | Luxury activity → People willing to pay more, but demand drops at high prices | ✅ Yes, demand collapses after 75€ |\n",
    "| **Horse Riding** | More accessible → Larger audience willing to pay, but price-sensitive | ✅ Yes, price sensitivity is clear after 40€ |\n",
    "\n",
    "✅ Our model successfully identifies revenue-maximizing price points while respecting customer behavior.\n",
    "\n",
    "---\n"
   ]
  },
  {
   "cell_type": "markdown",
   "metadata": {},
   "source": [
    "# **3. Needs-based segmentation**"
   ]
  },
  {
   "cell_type": "markdown",
   "metadata": {},
   "source": [
    "## **Explanations**"
   ]
  },
  {
   "cell_type": "markdown",
   "metadata": {},
   "source": [
    "**1. Introduction**\n",
    "\n",
    "The goal of this project was to perform Needs-Based Segmentation on customer survey data to identify distinct customer groups based on their preferences, motivations, and attitudes toward event-related services. This segmentation helps in tailoring marketing strategies, improving product offerings, and enhancing customer satisfaction by addressing specific needs of different segments."
   ]
  },
  {
   "cell_type": "markdown",
   "metadata": {},
   "source": [
    "**2. Objectives**\n",
    "\n",
    "1. To identify clusters of customers with similar needs and preferences.\n",
    "\n",
    "2. To understand the key factors driving customer decisions.\n",
    "\n",
    "3. To support targeted marketing and personalized communication strategies."
   ]
  },
  {
   "cell_type": "markdown",
   "metadata": {},
   "source": [
    "**3. Methodology**\n",
    "\n",
    "We applied the K-Means clustering algorithm to segment customers based on survey responses. The steps involved were:\n",
    "\n",
    "1. Data Preprocessing: Ensuring all selected features were numeric, handling missing values, and standardizing data.\n",
    "\n",
    "2. Feature Selection: Choosing relevant features that reflect customer needs and preferences.\n",
    "\n",
    "3. Clustering: Applying the K-Means algorithm to group customers into clusters.\n",
    "\n",
    "4. Evaluation: Using the Elbow Method and Silhouette Score to determine the optimal number of clusters.\n",
    "\n",
    "5. Visualization: Using PCA (Principal Component Analysis) to visualize clusters in a two-dimensional space.\n",
    "\n",
    "6. Prediction: Implementing a function to predict the segment of new customers based on their responses."
   ]
  },
  {
   "cell_type": "markdown",
   "metadata": {},
   "source": [
    "## **3.1. Feature Selection**"
   ]
  },
  {
   "cell_type": "markdown",
   "metadata": {},
   "source": [
    "- **Cost Importance (5):** Reflects how sensitive customers are to pricing, crucial for identifying price-conscious segments.\n",
    "\n",
    "- **Appeals Importance (6), Accessibility Importance (7), Amenities Importance (8), Activities Importance (9):** These features indicate the importance customers place on different event attributes, helping identify what drives their satisfaction.\n",
    "\n",
    "- **Willingness to Pay Extra (10-13):** Measures how much value customers place on specific event aspects, indicating premium or budget preferences.\n",
    "\n",
    "- **Prioritization Factors (14-16):** Highlights what customers consider most critical, whether it’s activities, amenities, or overall perfection.\n",
    "\n",
    "- **Attitude Towards Paying (18):** Reflects general spending behavior, useful for distinguishing budget-conscious from premium-seeking customers.\n",
    "\n",
    "- **Decision Influencers (19):** Shows the impact of social recommendations on customer choices.\n",
    "\n",
    "- **Demographics (21, 22):** Gender and Age help in understanding demographic patterns within segments.\n",
    "\n",
    "- **Motivations (4 Series):** Captures the primary reasons for attending events, essential for understanding underlying customer needs.\n",
    "\n",
    "- **Single Important Factors (17 Series):** Identifies the single most important factor for each customer, critical for need-based differentiation."
   ]
  },
  {
   "cell_type": "code",
   "execution_count": 15,
   "metadata": {},
   "outputs": [],
   "source": [
    "# Relevant columns for Needs-Based segmentation\n",
    "features = [\n",
    "    '5. Cost importance',\n",
    "    '6. Appeals importance',\n",
    "    '7. Accessibility importance',\n",
    "    '8. Amenities importance',\n",
    "    '9. Activities importance',\n",
    "    '10. Pay extra for atmosphere',\n",
    "    '11. Pay extra for location',\n",
    "    '12. Pay extra for amenities',\n",
    "    '13. Pay extra for activities',\n",
    "    '14. Activities over everything else',\n",
    "    '15. Amenities over everything else',\n",
    "    '16. Everything must be perfect',\n",
    "    '18. Attitude towards paying',\n",
    "    '19. decide on friends’ or social media recom',\n",
    "    '21. Gender',\n",
    "    '22. Age',\n",
    "    '4. Motivation_Adventure and excitement',\n",
    "    '4. Motivation_Other (please only choose if fits best)',\n",
    "    '4. Motivation_Relaxation and escaping routine',\n",
    "    '4. Motivation_Socializing and meeting new people',\n",
    "    '17. Single important factor_Broad choice of activities',\n",
    "    '17. Single important factor_Convenient or appealing location',\n",
    "    '17. Single important factor_High-quality amenities',\n",
    "    '17. Single important factor_Lowest price',\n",
    "    '17. Single important factor_Others',\n",
    "    '17. Single important factor_Outstanding visual and Appealing atmosphere'\n",
    "]\n",
    "\n",
    "# Ensure all relevant columns are numeric\n",
    "data_cluster = survey_data_cleaned[features].apply(pd.to_numeric, errors='coerce')\n",
    "#data_cluster = survey_data_cleaned[features].copy()\n"
   ]
  },
  {
   "cell_type": "markdown",
   "metadata": {},
   "source": [
    "## **3.2. Clustering**"
   ]
  },
  {
   "cell_type": "markdown",
   "metadata": {},
   "source": [
    "### **3.2.1.Standardization:**"
   ]
  },
  {
   "cell_type": "code",
   "execution_count": 16,
   "metadata": {},
   "outputs": [],
   "source": [
    "# Normalize the data\n",
    "scaler = StandardScaler()\n",
    "data_scaled = scaler.fit_transform(data_cluster.fillna(0))  # Handling NaN values\n"
   ]
  },
  {
   "cell_type": "markdown",
   "metadata": {},
   "source": [
    "### **3.2.2.K-Means, Elbow Method, Silhouette**\n",
    "\n",
    "- **K-Means Algorithm:** The algorithm was run for cluster numbers ranging from 2 to 10.\n",
    "\n",
    "- **Elbow Method:** Plotted the Within-Cluster Sum of Squares (WCSS) to find the point where adding more clusters doesn’t significantly reduce variance.\n",
    "\n",
    "- **Silhouette Score:** Measured the quality of clustering, with higher scores indicating well-defined clusters."
   ]
  },
  {
   "cell_type": "code",
   "execution_count": 17,
   "metadata": {},
   "outputs": [],
   "source": [
    "# Elbow Method & Silhouette Score to find the optimal number of clusters\n",
    "wcss = []\n",
    "silhouette_scores = []\n",
    "\n",
    "for k in range(2, 11):  # Starting from 2 since silhouette score isn't defined for 1 cluster\n",
    "    kmeans = KMeans(n_clusters=k, init='k-means++', random_state=42, n_init=10)\n",
    "    kmeans.fit(data_scaled)\n",
    "    wcss.append(kmeans.inertia_)\n",
    "    silhouette_avg = silhouette_score(data_scaled, kmeans.labels_)\n",
    "    silhouette_scores.append(silhouette_avg)\n"
   ]
  },
  {
   "cell_type": "code",
   "execution_count": 18,
   "metadata": {},
   "outputs": [
    {
     "data": {
      "image/png": "[encoded data removed]",
      "text/plain": [
       "<Figure size 1200x500 with 2 Axes>"
      ]
     },
     "metadata": {},
     "output_type": "display_data"
    }
   ],
   "source": [
    "# Plotting the Elbow Method\n",
    "plt.figure(figsize=(12, 5))\n",
    "\n",
    "# Elbow Plot\n",
    "plt.subplot(1, 2, 1)\n",
    "plt.plot(range(2, 11), wcss, marker='o')\n",
    "plt.xlabel('Number of Clusters (k)')\n",
    "plt.ylabel('WCSS')\n",
    "plt.title('Elbow Method for Optimal k')\n",
    "\n",
    "# Silhouette Score Plot\n",
    "plt.subplot(1, 2, 2)\n",
    "plt.plot(range(2, 11), silhouette_scores, marker='s', color='green')\n",
    "plt.xlabel('Number of Clusters (k)')\n",
    "plt.ylabel('Silhouette Score')\n",
    "plt.title('Silhouette Score Analysis')\n",
    "\n",
    "plt.tight_layout()\n",
    "plt.show()\n"
   ]
  },
  {
   "cell_type": "markdown",
   "metadata": {},
   "source": [
    "### Optimal Clusters (highest Silhouette Score)"
   ]
  },
  {
   "cell_type": "code",
   "execution_count": 19,
   "metadata": {},
   "outputs": [
    {
     "name": "stdout",
     "output_type": "stream",
     "text": [
      "Optimal number of clusters based on Silhouette Score: 2\n"
     ]
    }
   ],
   "source": [
    "# Determine the optimal k based on the highest Silhouette Score\n",
    "optimal_k = range(2, 11)[np.argmax(silhouette_scores)]\n",
    "print(f\"Optimal number of clusters based on Silhouette Score: {optimal_k}\")\n"
   ]
  },
  {
   "cell_type": "code",
   "execution_count": 20,
   "metadata": {},
   "outputs": [],
   "source": [
    "# Apply K-Means with the optimal number of clusters\n",
    "kmeans_final = KMeans(n_clusters=optimal_k, init='k-means++', random_state=42, n_init=10)\n",
    "survey_data_cleaned[\"Needs_Cluster\"] = kmeans_final.fit_predict(data_scaled)\n"
   ]
  },
  {
   "cell_type": "code",
   "execution_count": 41,
   "metadata": {},
   "outputs": [],
   "source": [
    "# Save the clustered data\n",
    "survey_data_cleaned.to_csv(\"needs_based_optimal_clusters.csv\", index=False)\n"
   ]
  },
  {
   "cell_type": "code",
   "execution_count": 22,
   "metadata": {},
   "outputs": [
    {
     "name": "stdout",
     "output_type": "stream",
     "text": [
      "               18. Attitude towards paying  21. Gender  \\\n",
      "Needs_Cluster                                            \n",
      "0                                 3.111111    0.444444   \n",
      "1                                 2.363636    0.393939   \n",
      "\n",
      "               4. Motivation_Adventure and excitement  \\\n",
      "Needs_Cluster                                           \n",
      "0                                            0.472222   \n",
      "1                                            0.303030   \n",
      "\n",
      "               4. Motivation_Other (please only choose if fits best)  \\\n",
      "Needs_Cluster                                                          \n",
      "0                                                       0.000000       \n",
      "1                                                       0.060606       \n",
      "\n",
      "               4. Motivation_Relaxation and escaping routine  \\\n",
      "Needs_Cluster                                                  \n",
      "0                                                   0.333333   \n",
      "1                                                   0.545455   \n",
      "\n",
      "               4. Motivation_Socializing and meeting new people  \\\n",
      "Needs_Cluster                                                     \n",
      "0                                                      0.194444   \n",
      "1                                                      0.090909   \n",
      "\n",
      "               17. Single important factor_Broad choice of activities  \\\n",
      "Needs_Cluster                                                           \n",
      "0                                                       0.138889        \n",
      "1                                                       0.030303        \n",
      "\n",
      "               17. Single important factor_Convenient or appealing location  \\\n",
      "Needs_Cluster                                                                 \n",
      "0                                                       0.138889              \n",
      "1                                                       0.151515              \n",
      "\n",
      "               17. Single important factor_High-quality amenities  \\\n",
      "Needs_Cluster                                                       \n",
      "0                                                       0.166667    \n",
      "1                                                       0.060606    \n",
      "\n",
      "               17. Single important factor_Lowest price  \\\n",
      "Needs_Cluster                                             \n",
      "0                                              0.111111   \n",
      "1                                              0.424242   \n",
      "\n",
      "               17. Single important factor_Others  \\\n",
      "Needs_Cluster                                       \n",
      "0                                        0.027778   \n",
      "1                                        0.000000   \n",
      "\n",
      "               17. Single important factor_Outstanding visual and Appealing atmosphere  \n",
      "Needs_Cluster                                                                           \n",
      "0                                                       0.416667                        \n",
      "1                                                       0.333333                        \n"
     ]
    }
   ],
   "source": [
    "# Display cluster averages\n",
    "numeric_features = survey_data_cleaned[features].select_dtypes(include=[np.number]).columns\n",
    "print(survey_data_cleaned.groupby(\"Needs_Cluster\")[numeric_features].mean())\n"
   ]
  },
  {
   "cell_type": "code",
   "execution_count": 23,
   "metadata": {},
   "outputs": [
    {
     "data": {
      "image/png": "[encoded data removed]",
      "text/plain": [
       "<Figure size 800x600 with 2 Axes>"
      ]
     },
     "metadata": {},
     "output_type": "display_data"
    }
   ],
   "source": [
    "# Plotting Clusters with PCA for visualization\n",
    "pca = PCA(n_components=2)\n",
    "reduced_data = pca.fit_transform(data_scaled)\n",
    "\n",
    "plt.figure(figsize=(8, 6))\n",
    "scatter = plt.scatter(reduced_data[:, 0], \n",
    "                      reduced_data[:, 1], \n",
    "                      c=survey_data_cleaned[\"Needs_Cluster\"], \n",
    "                      cmap='viridis', \n",
    "                      s=50, \n",
    "                      alpha=0.6)\n",
    "plt.colorbar(scatter, label='Cluster')\n",
    "plt.xlabel('PCA Component 1')\n",
    "plt.ylabel('PCA Component 2')\n",
    "plt.title('Cluster Visualization with PCA')\n",
    "plt.show()\n"
   ]
  },
  {
   "cell_type": "code",
   "execution_count": 24,
   "metadata": {},
   "outputs": [],
   "source": [
    "# Function to predict the segment for a new customer\n",
    "def predict_segment(new_customer_data):\n",
    "    # Ensure the data matches the feature structure\n",
    "    new_customer_df = pd.DataFrame([new_customer_data], columns=features)\n",
    "    new_customer_scaled = scaler.transform(new_customer_df.fillna(0))\n",
    "    cluster_label = kmeans_final.predict(new_customer_scaled)\n",
    "    return cluster_label[0]\n"
   ]
  },
  {
   "cell_type": "code",
   "execution_count": 25,
   "metadata": {},
   "outputs": [
    {
     "name": "stdout",
     "output_type": "stream",
     "text": [
      "The new customer belongs to segment: 1\n"
     ]
    }
   ],
   "source": [
    "# Example usage for a new customer\n",
    "new_customer_example = {\n",
    "    '5. Cost importance': 4, '6. Appeals importance': 5, '7. Accessibility importance': 3,\n",
    "    '8. Amenities importance': 6, '9. Activities importance': 7,\n",
    "    '10. Pay extra for atmosphere': 1, '11. Pay extra for location': 0,\n",
    "    '12. Pay extra for amenities': 1, '13. Pay extra for activities': 0,\n",
    "    '14. Activities over everything else': 1, '15. Amenities over everything else': 0,\n",
    "    '16. Everything must be perfect': 5, '18. Attitude towards paying': 4,\n",
    "    '19. decide on friends’ or social media recom': 1, '21. Gender': 1, '22. Age': 30,\n",
    "    '4. Motivation_Adventure and excitement': 3, '4. Motivation_Other (please only choose if fits best)': 0,\n",
    "    '4. Motivation_Relaxation and escaping routine': 2,\n",
    "    '4. Motivation_Socializing and meeting new people': 1,\n",
    "    '17. Single important factor_Broad choice of activities': 0,\n",
    "    '17. Single important factor_Convenient or appealing location': 1,\n",
    "    '17. Single important factor_High-quality amenities': 0,\n",
    "    '17. Single important factor_Lowest price': 1,\n",
    "    '17. Single important factor_Others': 0,\n",
    "    '17. Single important factor_Outstanding visual and Appealing atmosphere': 1\n",
    "}\n",
    "\n",
    "predicted_segment = predict_segment(new_customer_example)\n",
    "print(f\"The new customer belongs to segment: {predicted_segment}\")\n"
   ]
  },
  {
   "cell_type": "markdown",
   "metadata": {},
   "source": [
    "**Key Influential Features by Cluster**\n",
    "\n",
    "| **Cluster** | **Most Influential Features**                    | **Impact on Segmentation**                                |\n",
    "|-------------|-------------------------------------------------|----------------------------------------------------------|\n",
    "| Cluster 0   | Cost Importance, Attitude Towards Paying, Motivation for Relaxation | Indicates price-sensitive customers valuing **affordability** and **relaxation** opportunities. |\n",
    "| Cluster 1   | Willingness to Pay Extra for Amenities, Activities Over Everything Else, Motivation for Adventure | Represents premium-oriented customers **seeking high-quality** experiences and adventurous activities. |\n",
    "\n"
   ]
  },
  {
   "cell_type": "markdown",
   "metadata": {},
   "source": []
  }
 ],
 "metadata": {
  "kernelspec": {
   "display_name": "venv",
   "language": "python",
   "name": "python3"
  },
  "language_info": {
   "codemirror_mode": {
    "name": "ipython",
    "version": 3
   },
   "file_extension": ".py",
   "mimetype": "text/x-python",
   "name": "python",
   "nbconvert_exporter": "python",
   "pygments_lexer": "ipython3",
   "version": "3.11.8"
  }
 },
 "nbformat": 4,
 "nbformat_minor": 2
}
