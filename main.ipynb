{
 "cells": [
  {
   "cell_type": "markdown",
   "metadata": {},
   "source": [
    "# Marketing Project"
   ]
  },
  {
   "cell_type": "markdown",
   "metadata": {},
   "source": [
    "## Explanations:"
   ]
  },
  {
   "cell_type": "markdown",
   "metadata": {},
   "source": [
    "## Code details:"
   ]
  },
  {
   "cell_type": "markdown",
   "metadata": {},
   "source": [
    "## Libraries"
   ]
  },
  {
   "cell_type": "code",
   "metadata": {
    "ExecuteTime": {
     "end_time": "2025-02-09T16:14:00.070272Z",
     "start_time": "2025-02-09T16:14:00.059440Z"
    }
   },
   "source": [
    "import pandas as pd\n",
    "import numpy as np\n",
    "from sklearn.preprocessing import StandardScaler\n",
    "import matplotlib.pyplot as plt\n",
    "from sklearn.cluster import KMeans\n",
    "from sklearn.preprocessing import StandardScaler\n",
    "from sklearn.metrics import silhouette_score\n"
   ],
   "outputs": [],
   "execution_count": 122
  },
  {
   "cell_type": "markdown",
   "metadata": {},
   "source": [
    "## 0. Data Preprocess"
   ]
  },
  {
   "cell_type": "code",
   "metadata": {
    "ExecuteTime": {
     "end_time": "2025-02-09T16:14:00.939230Z",
     "start_time": "2025-02-09T16:14:00.923646Z"
    }
   },
   "source": [
    "# Load the dataset from the uploaded file\n",
    "file_path = './Survey_Results_fixed.csv'\n",
    "survey_data = pd.read_csv(file_path)\n",
    "# Display the first few rows and general info about the dataset\n",
    "survey_data.head()\n"
   ],
   "outputs": [
    {
     "data": {
      "text/plain": [
       "  Unnamed: 0   Unnamed: 1                                  Project Questions  \\\n",
       "0     Sr.No.  Response No  1.Have you ever participated in an outdoor or ...   \n",
       "1        NaN          NaN                                                      \n",
       "2          1            1                                                Yes   \n",
       "3          2            2                                                Yes   \n",
       "4          3            3                                                Yes   \n",
       "\n",
       "                                      Unnamed: 3 Unnamed: 4 Unnamed: 5  \\\n",
       "0  2.Which of the events have you ever attended?        NaN        NaN   \n",
       "1                               Horseback Riding    Surfing     Hiking   \n",
       "2                                            NaN        NaN        NaN   \n",
       "3                                            NaN        NaN        NaN   \n",
       "4                                            NaN        NaN     Hiking   \n",
       "\n",
       "  Unnamed: 6         Unnamed: 7  \\\n",
       "0        NaN                NaN   \n",
       "1     Skiing                NaN   \n",
       "2     Skiing                NaN   \n",
       "3        NaN  None of the above   \n",
       "4        NaN                NaN   \n",
       "\n",
       "                                          Unnamed: 8  \\\n",
       "0  3.How many times per year do you typically att...   \n",
       "1                                                      \n",
       "2                                          1-2 times   \n",
       "3                                          3-5 times   \n",
       "4                                          1-2 times   \n",
       "\n",
       "                                          Unnamed: 9  ...  \\\n",
       "0  4.What is your main motivation for attending t...  ...   \n",
       "1                                                     ...   \n",
       "2                           Adventure and excitement  ...   \n",
       "3                           Adventure and excitement  ...   \n",
       "4                           Adventure and excitement  ...   \n",
       "\n",
       "                                         Unnamed: 28  \\\n",
       "0  23.I value a wide variety of activities enough...   \n",
       "1                                                      \n",
       "2                                                  4   \n",
       "3                                                  6   \n",
       "4                                                  4   \n",
       "\n",
       "                                         Unnamed: 29  \\\n",
       "0  24.I’d rather have one excellent, well-managed...   \n",
       "1                                                      \n",
       "2                                                  7   \n",
       "3                                                  7   \n",
       "4                                                  7   \n",
       "\n",
       "                                         Unnamed: 30  \\\n",
       "0  25.I prefer a basic location if it offers grea...   \n",
       "1                                                      \n",
       "2                                                  4   \n",
       "3                                                  5   \n",
       "4                                                  4   \n",
       "\n",
       "                                         Unnamed: 31  \\\n",
       "0  26.If all these factors (Price, Visual Appeal,...   \n",
       "1                                                      \n",
       "2                                                  7   \n",
       "3                                                  7   \n",
       "4                                                  6   \n",
       "\n",
       "                                         Unnamed: 32  \\\n",
       "0  27.Which single factor most often influences y...   \n",
       "1                                                      \n",
       "2        Outstanding visual and Appealing atmosphere   \n",
       "3                         Broad choice of activities   \n",
       "4                         Broad choice of activities   \n",
       "\n",
       "                                         Unnamed: 33  \\\n",
       "0  28.Which of these statements best describes yo...   \n",
       "1                                                      \n",
       "2  Experience-Focused: I’m happy to pay more for ...   \n",
       "3  Experience-Focused: I’m happy to pay more for ...   \n",
       "4  Experience-Focused: I’m happy to pay more for ...   \n",
       "\n",
       "                                         Unnamed: 34  \\\n",
       "0  29.I often decide whether to attend an event b...   \n",
       "1                                                      \n",
       "2                                                  7   \n",
       "3                                                  6   \n",
       "4                                                  6   \n",
       "\n",
       "                                         Unnamed: 35 Unnamed: 36 Unnamed: 37  \n",
       "0  30.If you found an event that matched all your...   31.Gender      32.Age  \n",
       "1                                                                             \n",
       "2                                                  7      Female          36  \n",
       "3                                                  7      Female          33  \n",
       "4                                                  7        Male          24  \n",
       "\n",
       "[5 rows x 38 columns]"
      ],
      "text/html": [
       "<div>\n",
       "<style scoped>\n",
       "    .dataframe tbody tr th:only-of-type {\n",
       "        vertical-align: middle;\n",
       "    }\n",
       "\n",
       "    .dataframe tbody tr th {\n",
       "        vertical-align: top;\n",
       "    }\n",
       "\n",
       "    .dataframe thead th {\n",
       "        text-align: right;\n",
       "    }\n",
       "</style>\n",
       "<table border=\"1\" class=\"dataframe\">\n",
       "  <thead>\n",
       "    <tr style=\"text-align: right;\">\n",
       "      <th></th>\n",
       "      <th>Unnamed: 0</th>\n",
       "      <th>Unnamed: 1</th>\n",
       "      <th>Project Questions</th>\n",
       "      <th>Unnamed: 3</th>\n",
       "      <th>Unnamed: 4</th>\n",
       "      <th>Unnamed: 5</th>\n",
       "      <th>Unnamed: 6</th>\n",
       "      <th>Unnamed: 7</th>\n",
       "      <th>Unnamed: 8</th>\n",
       "      <th>Unnamed: 9</th>\n",
       "      <th>...</th>\n",
       "      <th>Unnamed: 28</th>\n",
       "      <th>Unnamed: 29</th>\n",
       "      <th>Unnamed: 30</th>\n",
       "      <th>Unnamed: 31</th>\n",
       "      <th>Unnamed: 32</th>\n",
       "      <th>Unnamed: 33</th>\n",
       "      <th>Unnamed: 34</th>\n",
       "      <th>Unnamed: 35</th>\n",
       "      <th>Unnamed: 36</th>\n",
       "      <th>Unnamed: 37</th>\n",
       "    </tr>\n",
       "  </thead>\n",
       "  <tbody>\n",
       "    <tr>\n",
       "      <th>0</th>\n",
       "      <td>Sr.No.</td>\n",
       "      <td>Response No</td>\n",
       "      <td>1.Have you ever participated in an outdoor or ...</td>\n",
       "      <td>2.Which of the events have you ever attended?</td>\n",
       "      <td>NaN</td>\n",
       "      <td>NaN</td>\n",
       "      <td>NaN</td>\n",
       "      <td>NaN</td>\n",
       "      <td>3.How many times per year do you typically att...</td>\n",
       "      <td>4.What is your main motivation for attending t...</td>\n",
       "      <td>...</td>\n",
       "      <td>23.I value a wide variety of activities enough...</td>\n",
       "      <td>24.I’d rather have one excellent, well-managed...</td>\n",
       "      <td>25.I prefer a basic location if it offers grea...</td>\n",
       "      <td>26.If all these factors (Price, Visual Appeal,...</td>\n",
       "      <td>27.Which single factor most often influences y...</td>\n",
       "      <td>28.Which of these statements best describes yo...</td>\n",
       "      <td>29.I often decide whether to attend an event b...</td>\n",
       "      <td>30.If you found an event that matched all your...</td>\n",
       "      <td>31.Gender</td>\n",
       "      <td>32.Age</td>\n",
       "    </tr>\n",
       "    <tr>\n",
       "      <th>1</th>\n",
       "      <td>NaN</td>\n",
       "      <td>NaN</td>\n",
       "      <td></td>\n",
       "      <td>Horseback Riding</td>\n",
       "      <td>Surfing</td>\n",
       "      <td>Hiking</td>\n",
       "      <td>Skiing</td>\n",
       "      <td>NaN</td>\n",
       "      <td></td>\n",
       "      <td></td>\n",
       "      <td>...</td>\n",
       "      <td></td>\n",
       "      <td></td>\n",
       "      <td></td>\n",
       "      <td></td>\n",
       "      <td></td>\n",
       "      <td></td>\n",
       "      <td></td>\n",
       "      <td></td>\n",
       "      <td></td>\n",
       "      <td></td>\n",
       "    </tr>\n",
       "    <tr>\n",
       "      <th>2</th>\n",
       "      <td>1</td>\n",
       "      <td>1</td>\n",
       "      <td>Yes</td>\n",
       "      <td>NaN</td>\n",
       "      <td>NaN</td>\n",
       "      <td>NaN</td>\n",
       "      <td>Skiing</td>\n",
       "      <td>NaN</td>\n",
       "      <td>1-2 times</td>\n",
       "      <td>Adventure and excitement</td>\n",
       "      <td>...</td>\n",
       "      <td>4</td>\n",
       "      <td>7</td>\n",
       "      <td>4</td>\n",
       "      <td>7</td>\n",
       "      <td>Outstanding visual and Appealing atmosphere</td>\n",
       "      <td>Experience-Focused: I’m happy to pay more for ...</td>\n",
       "      <td>7</td>\n",
       "      <td>7</td>\n",
       "      <td>Female</td>\n",
       "      <td>36</td>\n",
       "    </tr>\n",
       "    <tr>\n",
       "      <th>3</th>\n",
       "      <td>2</td>\n",
       "      <td>2</td>\n",
       "      <td>Yes</td>\n",
       "      <td>NaN</td>\n",
       "      <td>NaN</td>\n",
       "      <td>NaN</td>\n",
       "      <td>NaN</td>\n",
       "      <td>None of the above</td>\n",
       "      <td>3-5 times</td>\n",
       "      <td>Adventure and excitement</td>\n",
       "      <td>...</td>\n",
       "      <td>6</td>\n",
       "      <td>7</td>\n",
       "      <td>5</td>\n",
       "      <td>7</td>\n",
       "      <td>Broad choice of activities</td>\n",
       "      <td>Experience-Focused: I’m happy to pay more for ...</td>\n",
       "      <td>6</td>\n",
       "      <td>7</td>\n",
       "      <td>Female</td>\n",
       "      <td>33</td>\n",
       "    </tr>\n",
       "    <tr>\n",
       "      <th>4</th>\n",
       "      <td>3</td>\n",
       "      <td>3</td>\n",
       "      <td>Yes</td>\n",
       "      <td>NaN</td>\n",
       "      <td>NaN</td>\n",
       "      <td>Hiking</td>\n",
       "      <td>NaN</td>\n",
       "      <td>NaN</td>\n",
       "      <td>1-2 times</td>\n",
       "      <td>Adventure and excitement</td>\n",
       "      <td>...</td>\n",
       "      <td>4</td>\n",
       "      <td>7</td>\n",
       "      <td>4</td>\n",
       "      <td>6</td>\n",
       "      <td>Broad choice of activities</td>\n",
       "      <td>Experience-Focused: I’m happy to pay more for ...</td>\n",
       "      <td>6</td>\n",
       "      <td>7</td>\n",
       "      <td>Male</td>\n",
       "      <td>24</td>\n",
       "    </tr>\n",
       "  </tbody>\n",
       "</table>\n",
       "<p>5 rows × 38 columns</p>\n",
       "</div>"
      ]
     },
     "execution_count": 123,
     "metadata": {},
     "output_type": "execute_result"
    }
   ],
   "execution_count": 123
  },
  {
   "cell_type": "code",
   "metadata": {
    "ExecuteTime": {
     "end_time": "2025-02-09T16:14:01.447526Z",
     "start_time": "2025-02-09T16:14:01.443922Z"
    }
   },
   "source": [
    "# Extract the first row as column headers\n",
    "columns = survey_data.iloc[0]\n",
    "survey_data_cleaned = survey_data[1:]  # Remove the first row from the data\n",
    "\n",
    "# Assign new column names\n",
    "survey_data_cleaned.columns = columns\n",
    "\n",
    "# Reset index for better organization\n",
    "survey_data_cleaned.reset_index(drop=True, inplace=True)\n",
    "\n",
    "# Display the cleaned column names for user verification\n",
    "survey_data_cleaned.columns.tolist()\n"
   ],
   "outputs": [
    {
     "data": {
      "text/plain": [
       "['Sr.No.',\n",
       " 'Response No',\n",
       " '1.Have you ever participated in an outdoor or adventure event (e.g., surfing, hiking, horseback riding, skiing)?',\n",
       " '2.Which of the events have you ever attended?',\n",
       " nan,\n",
       " nan,\n",
       " nan,\n",
       " nan,\n",
       " '3.How many times per year do you typically attend such events?',\n",
       " '4.What is your main motivation for attending these events?',\n",
       " '5.How important is the event’s overall cost to you?',\n",
       " '6.How important is the environment’s visual and thematic appeal to you?',\n",
       " '7.How important is a scenic, easily accessible location when choosing an event?',\n",
       " '8.How important are additional amenities (e.g., food, music, freebies) to your enjoyment?',\n",
       " '9.How important is having a range of different activities within the same event?',\n",
       " '15.€20',\n",
       " '16.€30',\n",
       " '17.€40',\n",
       " '18.€50',\n",
       " '19.€60',\n",
       " '10.€75',\n",
       " '11.€100',\n",
       " '12.€125',\n",
       " '13.€150',\n",
       " '14.€175',\n",
       " '20.I’m willing to pay more if the visuals and the atmosphere of the event is particularly outstanding.',\n",
       " '21.I would pay more if the location is especially convenient or attractive.',\n",
       " '22.High-quality amenities (food, music, etc.) leads to accepting higher prices for me.',\n",
       " '23.I value a wide variety of activities enough to pay more.',\n",
       " '24.I’d rather have one excellent, well-managed activity with great atmosphere, than multiple average ones.',\n",
       " '25.I prefer a basic location if it offers great amenities (e.g., quality food, music).',\n",
       " '26.If all these factors (Price, Visual Appeal, Location, Amenities, Variety of Activites) are ideal, I am willing to pay a higher price.',\n",
       " '27.Which single factor most often influences your decision to attend an event?',\n",
       " '28.Which of these statements best describes your attitude towards paying for events?',\n",
       " '29.I often decide whether to attend an event based on friends’ or social media recommendations.',\n",
       " '30.If you found an event that matched all your preferences, how likely would you recommend it to others?',\n",
       " '31.Gender',\n",
       " '32.Age']"
      ]
     },
     "execution_count": 124,
     "metadata": {},
     "output_type": "execute_result"
    }
   ],
   "execution_count": 124
  },
  {
   "cell_type": "code",
   "metadata": {
    "ExecuteTime": {
     "end_time": "2025-02-09T16:14:01.925968Z",
     "start_time": "2025-02-09T16:14:01.914286Z"
    }
   },
   "source": [
    "# Drop the first row & 2 columns\n",
    "survey_data_cleaned.drop(0, axis=0, inplace=True)\n",
    "survey_data_cleaned = survey_data_cleaned.drop(columns=['Sr.No.','Response No'])\n",
    "# Fixing column names\n",
    "survey_data_cleaned.columns.values[0] = '1. Participated'\n",
    "survey_data_cleaned.columns.values[1] = '2. Events'\n",
    "survey_data_cleaned.columns.values[6] = '3. Frequency'\n",
    "survey_data_cleaned.columns.values[7] = '4. Motivation'\n",
    "survey_data_cleaned.columns.values[8] = '5. Cost importance'\n",
    "survey_data_cleaned.columns.values[9] = '6. Appeals importance'\n",
    "survey_data_cleaned.columns.values[10] = '7. Accessibility importance'\n",
    "survey_data_cleaned.columns.values[11] = '8. Amenities importance'\n",
    "survey_data_cleaned.columns.values[12] = '9. Activities importance'\n",
    "survey_data_cleaned.columns.values[23] = '10. Extra atmosphere'\n",
    "survey_data_cleaned.columns.values[24] = '11. Extra location'\n",
    "survey_data_cleaned.columns.values[25] = '12. Extra amenities'\n",
    "survey_data_cleaned.columns.values[26] = '13. Extra activities'\n",
    "survey_data_cleaned.columns.values[27] = '14. Excellent activitie'\n",
    "survey_data_cleaned.columns.values[28] = '15. Excellent amenities'\n",
    "survey_data_cleaned.columns.values[29] = '16. Excellent everything'\n",
    "survey_data_cleaned.columns.values[30] = '17. Single factor'\n",
    "survey_data_cleaned.columns.values[31] = '18. Attitude towards paying'\n",
    "survey_data_cleaned.columns.values[32] = '19. decide on friends’ or social media recom'\n",
    "survey_data_cleaned.columns.values[33] = '20. Your recommendation'\n",
    "survey_data_cleaned.columns.values[34] = '21. Gender'\n",
    "survey_data_cleaned.columns.values[35] = '22. Age'\n",
    "survey_data_cleaned.columns.tolist()\n"
   ],
   "outputs": [
    {
     "name": "stderr",
     "output_type": "stream",
     "text": [
      "/var/folders/tx/7mkl83h5303dsx8dlc3zdm4c0000gn/T/ipykernel_21517/904965629.py:2: SettingWithCopyWarning: \n",
      "A value is trying to be set on a copy of a slice from a DataFrame\n",
      "\n",
      "See the caveats in the documentation: https://pandas.pydata.org/pandas-docs/stable/user_guide/indexing.html#returning-a-view-versus-a-copy\n",
      "  survey_data_cleaned.drop(0, axis=0, inplace=True)\n"
     ]
    },
    {
     "data": {
      "text/plain": [
       "['1. Participated',\n",
       " '2. Events',\n",
       " nan,\n",
       " nan,\n",
       " nan,\n",
       " nan,\n",
       " '3. Frequency',\n",
       " '4. Motivation',\n",
       " '5. Cost importance',\n",
       " '6. Appeals importance',\n",
       " '7. Accessibility importance',\n",
       " '8. Amenities importance',\n",
       " '9. Activities importance',\n",
       " '15.€20',\n",
       " '16.€30',\n",
       " '17.€40',\n",
       " '18.€50',\n",
       " '19.€60',\n",
       " '10.€75',\n",
       " '11.€100',\n",
       " '12.€125',\n",
       " '13.€150',\n",
       " '14.€175',\n",
       " '10. Extra atmosphere',\n",
       " '11. Extra location',\n",
       " '12. Extra amenities',\n",
       " '13. Extra activities',\n",
       " '14. Excellent activitie',\n",
       " '15. Excellent amenities',\n",
       " '16. Excellent everything',\n",
       " '17. Single factor',\n",
       " '18. Attitude towards paying',\n",
       " '19. decide on friends’ or social media recom',\n",
       " '20. Your recommendation',\n",
       " '21. Gender',\n",
       " '22. Age']"
      ]
     },
     "execution_count": 125,
     "metadata": {},
     "output_type": "execute_result"
    }
   ],
   "execution_count": 125
  },
  {
   "cell_type": "code",
   "metadata": {
    "ExecuteTime": {
     "end_time": "2025-02-09T16:14:02.344069Z",
     "start_time": "2025-02-09T16:14:02.337523Z"
    }
   },
   "source": [
    "survey_data_cleaned.loc[::,'2. Events':survey_data_cleaned.columns.values[5]:1]\n"
   ],
   "outputs": [
    {
     "data": {
      "text/plain": [
       "0          2. Events  NaN     NaN     NaN                NaN\n",
       "1                NaN  NaN     NaN  Skiing                NaN\n",
       "2                NaN  NaN     NaN     NaN  None of the above\n",
       "3                NaN  NaN  Hiking     NaN                NaN\n",
       "4   Horseback Riding  NaN     NaN     NaN                NaN\n",
       "5                NaN  NaN  Hiking     NaN                NaN\n",
       "..               ...  ...     ...     ...                ...\n",
       "65               NaN  NaN  Hiking     NaN                NaN\n",
       "66               NaN  NaN     NaN     NaN  None of the above\n",
       "67               NaN  NaN     NaN     NaN  None of the above\n",
       "68  Horseback Riding  NaN     NaN     NaN                NaN\n",
       "69               NaN  NaN     NaN  Skiing                NaN\n",
       "\n",
       "[69 rows x 5 columns]"
      ],
      "text/html": [
       "<div>\n",
       "<style scoped>\n",
       "    .dataframe tbody tr th:only-of-type {\n",
       "        vertical-align: middle;\n",
       "    }\n",
       "\n",
       "    .dataframe tbody tr th {\n",
       "        vertical-align: top;\n",
       "    }\n",
       "\n",
       "    .dataframe thead th {\n",
       "        text-align: right;\n",
       "    }\n",
       "</style>\n",
       "<table border=\"1\" class=\"dataframe\">\n",
       "  <thead>\n",
       "    <tr style=\"text-align: right;\">\n",
       "      <th></th>\n",
       "      <th>2. Events</th>\n",
       "      <th>NaN</th>\n",
       "      <th>NaN</th>\n",
       "      <th>NaN</th>\n",
       "      <th>NaN</th>\n",
       "    </tr>\n",
       "  </thead>\n",
       "  <tbody>\n",
       "    <tr>\n",
       "      <th>1</th>\n",
       "      <td>NaN</td>\n",
       "      <td>NaN</td>\n",
       "      <td>NaN</td>\n",
       "      <td>Skiing</td>\n",
       "      <td>NaN</td>\n",
       "    </tr>\n",
       "    <tr>\n",
       "      <th>2</th>\n",
       "      <td>NaN</td>\n",
       "      <td>NaN</td>\n",
       "      <td>NaN</td>\n",
       "      <td>NaN</td>\n",
       "      <td>None of the above</td>\n",
       "    </tr>\n",
       "    <tr>\n",
       "      <th>3</th>\n",
       "      <td>NaN</td>\n",
       "      <td>NaN</td>\n",
       "      <td>Hiking</td>\n",
       "      <td>NaN</td>\n",
       "      <td>NaN</td>\n",
       "    </tr>\n",
       "    <tr>\n",
       "      <th>4</th>\n",
       "      <td>Horseback Riding</td>\n",
       "      <td>NaN</td>\n",
       "      <td>NaN</td>\n",
       "      <td>NaN</td>\n",
       "      <td>NaN</td>\n",
       "    </tr>\n",
       "    <tr>\n",
       "      <th>5</th>\n",
       "      <td>NaN</td>\n",
       "      <td>NaN</td>\n",
       "      <td>Hiking</td>\n",
       "      <td>NaN</td>\n",
       "      <td>NaN</td>\n",
       "    </tr>\n",
       "    <tr>\n",
       "      <th>...</th>\n",
       "      <td>...</td>\n",
       "      <td>...</td>\n",
       "      <td>...</td>\n",
       "      <td>...</td>\n",
       "      <td>...</td>\n",
       "    </tr>\n",
       "    <tr>\n",
       "      <th>65</th>\n",
       "      <td>NaN</td>\n",
       "      <td>NaN</td>\n",
       "      <td>Hiking</td>\n",
       "      <td>NaN</td>\n",
       "      <td>NaN</td>\n",
       "    </tr>\n",
       "    <tr>\n",
       "      <th>66</th>\n",
       "      <td>NaN</td>\n",
       "      <td>NaN</td>\n",
       "      <td>NaN</td>\n",
       "      <td>NaN</td>\n",
       "      <td>None of the above</td>\n",
       "    </tr>\n",
       "    <tr>\n",
       "      <th>67</th>\n",
       "      <td>NaN</td>\n",
       "      <td>NaN</td>\n",
       "      <td>NaN</td>\n",
       "      <td>NaN</td>\n",
       "      <td>None of the above</td>\n",
       "    </tr>\n",
       "    <tr>\n",
       "      <th>68</th>\n",
       "      <td>Horseback Riding</td>\n",
       "      <td>NaN</td>\n",
       "      <td>NaN</td>\n",
       "      <td>NaN</td>\n",
       "      <td>NaN</td>\n",
       "    </tr>\n",
       "    <tr>\n",
       "      <th>69</th>\n",
       "      <td>NaN</td>\n",
       "      <td>NaN</td>\n",
       "      <td>NaN</td>\n",
       "      <td>Skiing</td>\n",
       "      <td>NaN</td>\n",
       "    </tr>\n",
       "  </tbody>\n",
       "</table>\n",
       "<p>69 rows × 5 columns</p>\n",
       "</div>"
      ]
     },
     "execution_count": 126,
     "metadata": {},
     "output_type": "execute_result"
    }
   ],
   "execution_count": 126
  },
  {
   "cell_type": "markdown",
   "metadata": {},
   "source": [
    "### Done already"
   ]
  },
  {
   "cell_type": "code",
   "metadata": {
    "ExecuteTime": {
     "end_time": "2025-02-09T16:14:03.405912Z",
     "start_time": "2025-02-09T16:14:03.401389Z"
    }
   },
   "source": [
    "survey_data_cleaned.columns\n"
   ],
   "outputs": [
    {
     "data": {
      "text/plain": [
       "Index([                             '1. Participated',\n",
       "                                          '2. Events',\n",
       "                                                  nan,\n",
       "                                                  nan,\n",
       "                                                  nan,\n",
       "                                                  nan,\n",
       "                                       '3. Frequency',\n",
       "                                      '4. Motivation',\n",
       "                                 '5. Cost importance',\n",
       "                              '6. Appeals importance',\n",
       "                        '7. Accessibility importance',\n",
       "                            '8. Amenities importance',\n",
       "                           '9. Activities importance',\n",
       "                                             '15.€20',\n",
       "                                             '16.€30',\n",
       "                                             '17.€40',\n",
       "                                             '18.€50',\n",
       "                                             '19.€60',\n",
       "                                             '10.€75',\n",
       "                                            '11.€100',\n",
       "                                            '12.€125',\n",
       "                                            '13.€150',\n",
       "                                            '14.€175',\n",
       "                               '10. Extra atmosphere',\n",
       "                                 '11. Extra location',\n",
       "                                '12. Extra amenities',\n",
       "                               '13. Extra activities',\n",
       "                            '14. Excellent activitie',\n",
       "                            '15. Excellent amenities',\n",
       "                           '16. Excellent everything',\n",
       "                                  '17. Single factor',\n",
       "                        '18. Attitude towards paying',\n",
       "       '19. decide on friends’ or social media recom',\n",
       "                            '20. Your recommendation',\n",
       "                                         '21. Gender',\n",
       "                                            '22. Age'],\n",
       "      dtype='object', name=0)"
      ]
     },
     "execution_count": 127,
     "metadata": {},
     "output_type": "execute_result"
    }
   ],
   "execution_count": 127
  },
  {
   "cell_type": "code",
   "metadata": {
    "ExecuteTime": {
     "end_time": "2025-02-09T16:14:03.949855Z",
     "start_time": "2025-02-09T16:14:03.944032Z"
    }
   },
   "source": [
    "survey_data_cleaned.iloc[:,24:30]\n"
   ],
   "outputs": [
    {
     "data": {
      "text/plain": [
       "0  11. Extra location 12. Extra amenities 13. Extra activities  \\\n",
       "1                   7                   7                    4   \n",
       "2                   1                   6                    6   \n",
       "3                   6                   5                    4   \n",
       "4                   6                   4                    5   \n",
       "5                   5                   4                    4   \n",
       "..                ...                 ...                  ...   \n",
       "65                  4                   2                    2   \n",
       "66                  4                   1                    1   \n",
       "67                  7                   4                    4   \n",
       "68                  4                   4                    4   \n",
       "69                  2                   2                    3   \n",
       "\n",
       "0  14. Excellent activitie 15. Excellent amenities 16. Excellent everything  \n",
       "1                        7                       4                        7  \n",
       "2                        7                       5                        7  \n",
       "3                        7                       4                        6  \n",
       "4                        6                       5                        5  \n",
       "5                        4                       4                        4  \n",
       "..                     ...                     ...                      ...  \n",
       "65                       5                       1                        2  \n",
       "66                       7                       4                        4  \n",
       "67                       7                       3                        7  \n",
       "68                       5                       5                        4  \n",
       "69                       6                       2                        2  \n",
       "\n",
       "[69 rows x 6 columns]"
      ],
      "text/html": [
       "<div>\n",
       "<style scoped>\n",
       "    .dataframe tbody tr th:only-of-type {\n",
       "        vertical-align: middle;\n",
       "    }\n",
       "\n",
       "    .dataframe tbody tr th {\n",
       "        vertical-align: top;\n",
       "    }\n",
       "\n",
       "    .dataframe thead th {\n",
       "        text-align: right;\n",
       "    }\n",
       "</style>\n",
       "<table border=\"1\" class=\"dataframe\">\n",
       "  <thead>\n",
       "    <tr style=\"text-align: right;\">\n",
       "      <th></th>\n",
       "      <th>11. Extra location</th>\n",
       "      <th>12. Extra amenities</th>\n",
       "      <th>13. Extra activities</th>\n",
       "      <th>14. Excellent activitie</th>\n",
       "      <th>15. Excellent amenities</th>\n",
       "      <th>16. Excellent everything</th>\n",
       "    </tr>\n",
       "  </thead>\n",
       "  <tbody>\n",
       "    <tr>\n",
       "      <th>1</th>\n",
       "      <td>7</td>\n",
       "      <td>7</td>\n",
       "      <td>4</td>\n",
       "      <td>7</td>\n",
       "      <td>4</td>\n",
       "      <td>7</td>\n",
       "    </tr>\n",
       "    <tr>\n",
       "      <th>2</th>\n",
       "      <td>1</td>\n",
       "      <td>6</td>\n",
       "      <td>6</td>\n",
       "      <td>7</td>\n",
       "      <td>5</td>\n",
       "      <td>7</td>\n",
       "    </tr>\n",
       "    <tr>\n",
       "      <th>3</th>\n",
       "      <td>6</td>\n",
       "      <td>5</td>\n",
       "      <td>4</td>\n",
       "      <td>7</td>\n",
       "      <td>4</td>\n",
       "      <td>6</td>\n",
       "    </tr>\n",
       "    <tr>\n",
       "      <th>4</th>\n",
       "      <td>6</td>\n",
       "      <td>4</td>\n",
       "      <td>5</td>\n",
       "      <td>6</td>\n",
       "      <td>5</td>\n",
       "      <td>5</td>\n",
       "    </tr>\n",
       "    <tr>\n",
       "      <th>5</th>\n",
       "      <td>5</td>\n",
       "      <td>4</td>\n",
       "      <td>4</td>\n",
       "      <td>4</td>\n",
       "      <td>4</td>\n",
       "      <td>4</td>\n",
       "    </tr>\n",
       "    <tr>\n",
       "      <th>...</th>\n",
       "      <td>...</td>\n",
       "      <td>...</td>\n",
       "      <td>...</td>\n",
       "      <td>...</td>\n",
       "      <td>...</td>\n",
       "      <td>...</td>\n",
       "    </tr>\n",
       "    <tr>\n",
       "      <th>65</th>\n",
       "      <td>4</td>\n",
       "      <td>2</td>\n",
       "      <td>2</td>\n",
       "      <td>5</td>\n",
       "      <td>1</td>\n",
       "      <td>2</td>\n",
       "    </tr>\n",
       "    <tr>\n",
       "      <th>66</th>\n",
       "      <td>4</td>\n",
       "      <td>1</td>\n",
       "      <td>1</td>\n",
       "      <td>7</td>\n",
       "      <td>4</td>\n",
       "      <td>4</td>\n",
       "    </tr>\n",
       "    <tr>\n",
       "      <th>67</th>\n",
       "      <td>7</td>\n",
       "      <td>4</td>\n",
       "      <td>4</td>\n",
       "      <td>7</td>\n",
       "      <td>3</td>\n",
       "      <td>7</td>\n",
       "    </tr>\n",
       "    <tr>\n",
       "      <th>68</th>\n",
       "      <td>4</td>\n",
       "      <td>4</td>\n",
       "      <td>4</td>\n",
       "      <td>5</td>\n",
       "      <td>5</td>\n",
       "      <td>4</td>\n",
       "    </tr>\n",
       "    <tr>\n",
       "      <th>69</th>\n",
       "      <td>2</td>\n",
       "      <td>2</td>\n",
       "      <td>3</td>\n",
       "      <td>6</td>\n",
       "      <td>2</td>\n",
       "      <td>2</td>\n",
       "    </tr>\n",
       "  </tbody>\n",
       "</table>\n",
       "<p>69 rows × 6 columns</p>\n",
       "</div>"
      ]
     },
     "execution_count": 128,
     "metadata": {},
     "output_type": "execute_result"
    }
   ],
   "execution_count": 128
  },
  {
   "cell_type": "code",
   "metadata": {
    "ExecuteTime": {
     "end_time": "2025-02-09T16:14:04.484439Z",
     "start_time": "2025-02-09T16:14:04.440934Z"
    }
   },
   "source": [
    "#Q1 --------------------\n",
    "# Convert the first question to binary (assuming \"Yes\" -> 1, \"No\" -> 0)\n",
    "survey_data_cleaned['1. Participated'] = survey_data_cleaned['1. Participated'].apply(lambda x: 1 if x == 'Yes' else 0)\n",
    "\n",
    "\n",
    "#Q2 ----------------------\n",
    "change_list = ['2. Events', 'Surfing', 'Hiking', 'Skiing', 'None of the above']\n",
    "# fixing column names of Q2 and the NaN values\n",
    "survey_data_cleaned.columns.values[1:6] = change_list\n",
    "\n",
    "# Function to consolidate values from all columns into one\n",
    "def consolidate_events(row):\n",
    "    # Drop NaN values and join the remaining words into a single string\n",
    "    events = row[change_list].dropna().tolist()\n",
    "    \n",
    "    # If no valid events, add 'None of the above'\n",
    "    if not events:\n",
    "        events.append('None of the above')\n",
    "    \n",
    "    # Join the list into a string\n",
    "    return ', '.join(events)\n",
    "\n",
    "# Apply the function across all rows\n",
    "survey_data_cleaned['2. Events'] = survey_data_cleaned.loc[::,'2. Events':survey_data_cleaned.columns.values[5]:1].apply(consolidate_events, axis=1)\n",
    "survey_data_cleaned.drop(columns=['Surfing', 'Hiking', 'Skiing', 'None of the above'], inplace=True)\n",
    "\n",
    "#Q3 ----------------------\n",
    "def map_frequency(value):\n",
    "    if value == '0 times':\n",
    "        return 0\n",
    "    elif value == '1-2 times':\n",
    "        return 1  # Midpoint of the range\n",
    "    elif value == '3-5 times':\n",
    "        return 2  # Midpoint of the range\n",
    "    elif value == '6+ times':\n",
    "        return 3  # Or any number representing '6+'\n",
    "    return 0  # In case there are unexpected values\n",
    "\n",
    "# Apply the mapping function to the 'Frequency' column\n",
    "survey_data_cleaned['3. Frequency'] = survey_data_cleaned['3. Frequency'].apply(map_frequency)\n",
    "\n",
    "#Q4 ----------------------\n",
    "survey_data_cleaned = pd.get_dummies(survey_data_cleaned, columns=['4. Motivation'], dtype='int')\n",
    "\n",
    "#Q10-19 ---------------------\n",
    "# Step 1: Identify columns matching the pattern `number.€price`\n",
    "import re\n",
    "\n",
    "def is_price_column(col_name):\n",
    "    # Check if the column matches the pattern `number.€price`\n",
    "    return bool(re.match(r'^\\d+\\.\\€\\d+$', col_name))\n",
    "\n",
    "# Filter the columns that are price-related\n",
    "price_columns = [col for col in survey_data_cleaned.columns if is_price_column(col)]\n",
    "price_columns\n",
    "\n",
    "# Step 2: Extract the numeric price from column names\n",
    "price_mapping = {col: float(col.split('.')[1].strip('€')) for col in price_columns}\n",
    "\n",
    "# Rename only the price columns\n",
    "survey_data_cleaned.rename(columns=price_mapping, inplace=True)\n",
    "# Step 3: Create a function to get min and max prices where response is \"Yes, I would buy.\" or \"Yes, I would buy\"\n",
    "def get_min_max_prices(row):\n",
    "    # Extract prices where the response is \"Yes, I would buy.\" OR \"Yes, I would buy\"\n",
    "    yes_prices = [\n",
    "        price for price in price_mapping.values()\n",
    "        if row.get(price) in [\"Yes, I would buy.\", \"Yes, I would buy\"]\n",
    "    ]\n",
    "    if yes_prices:\n",
    "        return pd.Series([min(yes_prices), max(yes_prices)])\n",
    "    return pd.Series([0, 0])\n",
    "# Step 4: Apply the function to the DataFrame\n",
    "\n",
    "survey_data_cleaned[['min_total_price', 'max_total_price']] = survey_data_cleaned.apply(get_min_max_prices, axis=1)\n",
    "survey_data_cleaned[['min_surfing_price', 'max_surfing_price']] = survey_data_cleaned.iloc[:,8:13].apply(get_min_max_prices, axis=1)\n",
    "survey_data_cleaned[['min_horse_price', 'max_horse_price']] = survey_data_cleaned.iloc[:,13:18].apply(get_min_max_prices, axis=1)\n",
    "\n",
    "survey_data_cleaned.drop(columns=[75.0, 100.0, 125.0, 150.0, 175.0, 20.0, 30.0, 40.0, 50.0, 60.0], inplace=True)\n",
    "\n",
    "#Q17 ----------------------\n",
    "survey_data_cleaned = pd.get_dummies(survey_data_cleaned, columns=['17. Single factor'], dtype='int')\n",
    "\n",
    "#Q18 ---------------------\n",
    "def map_frequency_q18(value):\n",
    "    if value == 'Cost-Focused: I tend to choose the cheapest options':\n",
    "        return 1\n",
    "    elif value == 'Spontaneous: It varies; I decide case by case':\n",
    "        return 2  # Midpoint of the range\n",
    "    elif value == 'Balanced: I pay more only if it truly seems worth it':\n",
    "        return 3  # Midpoint of the range\n",
    "    elif value == \"Experience-Focused: I’m happy to pay more for a unique experience\":\n",
    "        return 4  # Or any number representing '6+'\n",
    "    return 0  # In case there are unexpected values\n",
    "\n",
    "# Apply the mapping function to the 'Frequency' column\n",
    "survey_data_cleaned['18. Attitude towards paying'] = survey_data_cleaned['18. Attitude towards paying'].apply(map_frequency_q18)\n"
   ],
   "outputs": [],
   "execution_count": 129
  },
  {
   "cell_type": "markdown",
   "metadata": {},
   "source": [
    "### Todo"
   ]
  },
  {
   "cell_type": "code",
   "metadata": {
    "ExecuteTime": {
     "end_time": "2025-02-09T16:14:05.412064Z",
     "start_time": "2025-02-09T16:14:05.409139Z"
    }
   },
   "source": [
    "survey_data_cleaned.columns\n"
   ],
   "outputs": [
    {
     "data": {
      "text/plain": [
       "Index(['1. Participated', '2. Events', '3. Frequency', '5. Cost importance',\n",
       "       '6. Appeals importance', '7. Accessibility importance',\n",
       "       '8. Amenities importance', '9. Activities importance',\n",
       "       '10. Extra atmosphere', '11. Extra location', '12. Extra amenities',\n",
       "       '13. Extra activities', '14. Excellent activitie',\n",
       "       '15. Excellent amenities', '16. Excellent everything',\n",
       "       '18. Attitude towards paying',\n",
       "       '19. decide on friends’ or social media recom',\n",
       "       '20. Your recommendation', '21. Gender', '22. Age',\n",
       "       '4. Motivation_Adventure and excitement',\n",
       "       '4. Motivation_Other (please only choose if fits best)',\n",
       "       '4. Motivation_Relaxation and escaping routine',\n",
       "       '4. Motivation_Socializing and meeting new people', 'min_total_price',\n",
       "       'max_total_price', 'min_surfing_price', 'max_surfing_price',\n",
       "       'min_horse_price', 'max_horse_price',\n",
       "       '17. Single factor_Broad choice of activities',\n",
       "       '17. Single factor_Convenient or appealing location',\n",
       "       '17. Single factor_High-quality amenities',\n",
       "       '17. Single factor_Lowest price', '17. Single factor_Others',\n",
       "       '17. Single factor_Outstanding visual and Appealing atmosphere'],\n",
       "      dtype='object')"
      ]
     },
     "execution_count": 130,
     "metadata": {},
     "output_type": "execute_result"
    }
   ],
   "execution_count": 130
  },
  {
   "cell_type": "markdown",
   "metadata": {},
   "source": [
    "### Converting the Categorical columns (2. Events, 21. Gender)"
   ]
  },
  {
   "cell_type": "code",
   "metadata": {
    "ExecuteTime": {
     "end_time": "2025-02-09T16:14:06.442213Z",
     "start_time": "2025-02-09T16:14:06.430983Z"
    }
   },
   "source": [
    "survey_data_cleaned[\"21. Gender\"] = survey_data_cleaned[\"21. Gender\"].map({\"Male\": 0, \"Female\": 1})  # Convert Gender to 0/1\n",
    "survey_data_cleaned = pd.get_dummies(survey_data_cleaned, columns=[\"2. Events\"], dtype='int')  # One-hot encode \"Events\" column\n",
    "\n",
    "#Q5 ----------------------\n",
    "#Q6 ----------------------\n",
    "#Q7 ----------------------\n",
    "#Q8 ----------------------\n",
    "#Q9 ----------------------\n",
    "\n",
    "#Q20 ---------------------\n",
    "#Q21 ---------------------\n",
    "#Q22 ---------------------\n",
    "\n",
    "# Show the updated DataFrame\n",
    "survey_data_cleaned.head()\n"
   ],
   "outputs": [
    {
     "data": {
      "text/plain": [
       "   1. Participated  3. Frequency 5. Cost importance 6. Appeals importance  \\\n",
       "1                1             1                  6                     6   \n",
       "2                1             2                  5                     3   \n",
       "3                1             1                  4                     6   \n",
       "4                1             1                  4                     6   \n",
       "5                1             2                  5                     6   \n",
       "\n",
       "  7. Accessibility importance 8. Amenities importance  \\\n",
       "1                           7                       7   \n",
       "2                           6                       5   \n",
       "3                           5                       6   \n",
       "4                           6                       6   \n",
       "5                           4                       3   \n",
       "\n",
       "  9. Activities importance 10. Extra atmosphere 11. Extra location  \\\n",
       "1                        6                    7                  7   \n",
       "2                        4                    7                  1   \n",
       "3                        4                    5                  6   \n",
       "4                        6                    5                  6   \n",
       "5                        5                    4                  5   \n",
       "\n",
       "  12. Extra amenities  ... 2. Events_Hiking 2. Events_Hiking, Skiing  \\\n",
       "1                   7  ...                0                        0   \n",
       "2                   6  ...                0                        0   \n",
       "3                   5  ...                1                        0   \n",
       "4                   4  ...                0                        0   \n",
       "5                   4  ...                1                        0   \n",
       "\n",
       "  2. Events_Horseback Riding 2. Events_Horseback Riding, Hiking  \\\n",
       "1                          0                                  0   \n",
       "2                          0                                  0   \n",
       "3                          0                                  0   \n",
       "4                          1                                  0   \n",
       "5                          0                                  0   \n",
       "\n",
       "   2. Events_Horseback Riding, Hiking, Skiing 2. Events_None of the above  \\\n",
       "1                                           0                           0   \n",
       "2                                           0                           1   \n",
       "3                                           0                           0   \n",
       "4                                           0                           0   \n",
       "5                                           0                           0   \n",
       "\n",
       "  2. Events_Skiing  2. Events_Surfing 2. Events_Surfing, Hiking  \\\n",
       "1                1                  0                         0   \n",
       "2                0                  0                         0   \n",
       "3                0                  0                         0   \n",
       "4                0                  0                         0   \n",
       "5                0                  0                         0   \n",
       "\n",
       "   2. Events_Surfing, Skiing  \n",
       "1                          0  \n",
       "2                          0  \n",
       "3                          0  \n",
       "4                          0  \n",
       "5                          0  \n",
       "\n",
       "[5 rows x 45 columns]"
      ],
      "text/html": [
       "<div>\n",
       "<style scoped>\n",
       "    .dataframe tbody tr th:only-of-type {\n",
       "        vertical-align: middle;\n",
       "    }\n",
       "\n",
       "    .dataframe tbody tr th {\n",
       "        vertical-align: top;\n",
       "    }\n",
       "\n",
       "    .dataframe thead th {\n",
       "        text-align: right;\n",
       "    }\n",
       "</style>\n",
       "<table border=\"1\" class=\"dataframe\">\n",
       "  <thead>\n",
       "    <tr style=\"text-align: right;\">\n",
       "      <th></th>\n",
       "      <th>1. Participated</th>\n",
       "      <th>3. Frequency</th>\n",
       "      <th>5. Cost importance</th>\n",
       "      <th>6. Appeals importance</th>\n",
       "      <th>7. Accessibility importance</th>\n",
       "      <th>8. Amenities importance</th>\n",
       "      <th>9. Activities importance</th>\n",
       "      <th>10. Extra atmosphere</th>\n",
       "      <th>11. Extra location</th>\n",
       "      <th>12. Extra amenities</th>\n",
       "      <th>...</th>\n",
       "      <th>2. Events_Hiking</th>\n",
       "      <th>2. Events_Hiking, Skiing</th>\n",
       "      <th>2. Events_Horseback Riding</th>\n",
       "      <th>2. Events_Horseback Riding, Hiking</th>\n",
       "      <th>2. Events_Horseback Riding, Hiking, Skiing</th>\n",
       "      <th>2. Events_None of the above</th>\n",
       "      <th>2. Events_Skiing</th>\n",
       "      <th>2. Events_Surfing</th>\n",
       "      <th>2. Events_Surfing, Hiking</th>\n",
       "      <th>2. Events_Surfing, Skiing</th>\n",
       "    </tr>\n",
       "  </thead>\n",
       "  <tbody>\n",
       "    <tr>\n",
       "      <th>1</th>\n",
       "      <td>1</td>\n",
       "      <td>1</td>\n",
       "      <td>6</td>\n",
       "      <td>6</td>\n",
       "      <td>7</td>\n",
       "      <td>7</td>\n",
       "      <td>6</td>\n",
       "      <td>7</td>\n",
       "      <td>7</td>\n",
       "      <td>7</td>\n",
       "      <td>...</td>\n",
       "      <td>0</td>\n",
       "      <td>0</td>\n",
       "      <td>0</td>\n",
       "      <td>0</td>\n",
       "      <td>0</td>\n",
       "      <td>0</td>\n",
       "      <td>1</td>\n",
       "      <td>0</td>\n",
       "      <td>0</td>\n",
       "      <td>0</td>\n",
       "    </tr>\n",
       "    <tr>\n",
       "      <th>2</th>\n",
       "      <td>1</td>\n",
       "      <td>2</td>\n",
       "      <td>5</td>\n",
       "      <td>3</td>\n",
       "      <td>6</td>\n",
       "      <td>5</td>\n",
       "      <td>4</td>\n",
       "      <td>7</td>\n",
       "      <td>1</td>\n",
       "      <td>6</td>\n",
       "      <td>...</td>\n",
       "      <td>0</td>\n",
       "      <td>0</td>\n",
       "      <td>0</td>\n",
       "      <td>0</td>\n",
       "      <td>0</td>\n",
       "      <td>1</td>\n",
       "      <td>0</td>\n",
       "      <td>0</td>\n",
       "      <td>0</td>\n",
       "      <td>0</td>\n",
       "    </tr>\n",
       "    <tr>\n",
       "      <th>3</th>\n",
       "      <td>1</td>\n",
       "      <td>1</td>\n",
       "      <td>4</td>\n",
       "      <td>6</td>\n",
       "      <td>5</td>\n",
       "      <td>6</td>\n",
       "      <td>4</td>\n",
       "      <td>5</td>\n",
       "      <td>6</td>\n",
       "      <td>5</td>\n",
       "      <td>...</td>\n",
       "      <td>1</td>\n",
       "      <td>0</td>\n",
       "      <td>0</td>\n",
       "      <td>0</td>\n",
       "      <td>0</td>\n",
       "      <td>0</td>\n",
       "      <td>0</td>\n",
       "      <td>0</td>\n",
       "      <td>0</td>\n",
       "      <td>0</td>\n",
       "    </tr>\n",
       "    <tr>\n",
       "      <th>4</th>\n",
       "      <td>1</td>\n",
       "      <td>1</td>\n",
       "      <td>4</td>\n",
       "      <td>6</td>\n",
       "      <td>6</td>\n",
       "      <td>6</td>\n",
       "      <td>6</td>\n",
       "      <td>5</td>\n",
       "      <td>6</td>\n",
       "      <td>4</td>\n",
       "      <td>...</td>\n",
       "      <td>0</td>\n",
       "      <td>0</td>\n",
       "      <td>1</td>\n",
       "      <td>0</td>\n",
       "      <td>0</td>\n",
       "      <td>0</td>\n",
       "      <td>0</td>\n",
       "      <td>0</td>\n",
       "      <td>0</td>\n",
       "      <td>0</td>\n",
       "    </tr>\n",
       "    <tr>\n",
       "      <th>5</th>\n",
       "      <td>1</td>\n",
       "      <td>2</td>\n",
       "      <td>5</td>\n",
       "      <td>6</td>\n",
       "      <td>4</td>\n",
       "      <td>3</td>\n",
       "      <td>5</td>\n",
       "      <td>4</td>\n",
       "      <td>5</td>\n",
       "      <td>4</td>\n",
       "      <td>...</td>\n",
       "      <td>1</td>\n",
       "      <td>0</td>\n",
       "      <td>0</td>\n",
       "      <td>0</td>\n",
       "      <td>0</td>\n",
       "      <td>0</td>\n",
       "      <td>0</td>\n",
       "      <td>0</td>\n",
       "      <td>0</td>\n",
       "      <td>0</td>\n",
       "    </tr>\n",
       "  </tbody>\n",
       "</table>\n",
       "<p>5 rows × 45 columns</p>\n",
       "</div>"
      ]
     },
     "execution_count": 131,
     "metadata": {},
     "output_type": "execute_result"
    }
   ],
   "execution_count": 131
  },
  {
   "cell_type": "code",
   "metadata": {
    "ExecuteTime": {
     "end_time": "2025-02-09T16:14:07.054365Z",
     "start_time": "2025-02-09T16:14:07.005613Z"
    }
   },
   "source": [
    "# Save the result DataFrame to an Excel file\n",
    "survey_data_cleaned.to_excel(\"survey_data_cleaned.xlsx\", index=False)\n",
    "\n",
    "print(\"File saved successfully as 'survey_results.xlsx'\")\n"
   ],
   "outputs": [
    {
     "name": "stdout",
     "output_type": "stream",
     "text": [
      "File saved successfully as 'survey_results.xlsx'\n"
     ]
    }
   ],
   "execution_count": 132
  },
  {
   "cell_type": "markdown",
   "metadata": {},
   "source": [
    "## 1. Behavioral customer segmentation"
   ]
  },
  {
   "cell_type": "markdown",
   "metadata": {},
   "source": [
    "### RFM"
   ]
  },
  {
   "cell_type": "markdown",
   "metadata": {},
   "source": [
    "### Recency, Frequency and Monetary\n",
    "\n",
    "'''Recency → How recently the customer attended an event (Column: \"1. Participated\")\n",
    "\n",
    "Frequency → How often they attend events (Column: \"3. Frequency\")\n",
    "\n",
    "Monetary → Their willingness to pay or cost importance (Column: \"5. Cost importance\" or min/max price columns)'''\n"
   ]
  },
  {
   "cell_type": "code",
   "metadata": {
    "ExecuteTime": {
     "end_time": "2025-02-09T16:14:09.301989Z",
     "start_time": "2025-02-09T16:14:09.295630Z"
    }
   },
   "source": [
    "# Step 1: Define RFM Metrics\n",
    "rfm = survey_data_cleaned[[\"1. Participated\", \"3. Frequency\", \"5. Cost importance\"]].copy()\n",
    "rfm.columns = [\"Recency\", \"Frequency\", \"Monetary\"]  # Rename for clarity\n"
   ],
   "outputs": [],
   "execution_count": 133
  },
  {
   "cell_type": "code",
   "metadata": {
    "ExecuteTime": {
     "end_time": "2025-02-09T16:14:09.816109Z",
     "start_time": "2025-02-09T16:14:09.808912Z"
    }
   },
   "source": [
    "# Step 2: Normalize the Data\n",
    "scaler = StandardScaler()\n",
    "rfm_scaled = scaler.fit_transform(rfm)\n"
   ],
   "outputs": [],
   "execution_count": 134
  },
  {
   "cell_type": "code",
   "metadata": {
    "ExecuteTime": {
     "end_time": "2025-02-09T16:14:10.238273Z",
     "start_time": "2025-02-09T16:14:10.231139Z"
    }
   },
   "source": [
    "# Step 3: Assign RFM Scores (Simple Percentiles)\n",
    "rfm[\"R_Score\"] = pd.qcut(rfm[\"Recency\"].rank(method=\"first\"), 4, labels=[4, 3, 2, 1])\n",
    "rfm[\"F_Score\"] = pd.qcut(rfm[\"Frequency\"].rank(method=\"first\"), 4, labels=[1, 2, 3, 4])\n",
    "rfm[\"M_Score\"] = pd.qcut(rfm[\"Monetary\"].rank(method=\"first\"), 4, labels=[1, 2, 3, 4])\n"
   ],
   "outputs": [],
   "execution_count": 135
  },
  {
   "cell_type": "code",
   "metadata": {
    "ExecuteTime": {
     "end_time": "2025-02-09T16:14:10.567810Z",
     "start_time": "2025-02-09T16:14:10.558711Z"
    }
   },
   "source": [
    "# Step 4: Create Final RFM Segments\n",
    "rfm[\"RFM_Score\"] = rfm[[\"R_Score\", \"F_Score\", \"M_Score\"]].sum(axis=1)\n"
   ],
   "outputs": [],
   "execution_count": 136
  },
  {
   "cell_type": "code",
   "metadata": {
    "ExecuteTime": {
     "end_time": "2025-02-09T16:14:10.962642Z",
     "start_time": "2025-02-09T16:14:10.952859Z"
    }
   },
   "source": [
    "# Define Customer Segments\n",
    "seg_map = {\n",
    "    (9, 10, 11, 12): \"Best Customers\",\n",
    "    (5, 6, 7, 8): \"Loyal Customers\",\n",
    "    (3, 4): \"Potential Customers\",\n",
    "    (1, 2): \"At Risk\"\n",
    "}\n",
    "\n",
    "rfm[\"Segment\"] = rfm[\"RFM_Score\"].apply(lambda x: next((v for k, v in seg_map.items() if x in k), \"Others\"))\n",
    "\n",
    "# Step 5: Save Results\n",
    "rfm.to_csv(\"rfm_segments.csv\", index=False)\n",
    "print(rfm.head())\n"
   ],
   "outputs": [
    {
     "name": "stdout",
     "output_type": "stream",
     "text": [
      "   Recency  Frequency Monetary R_Score F_Score M_Score  RFM_Score  \\\n",
      "1        1          1        6       4       1       3          8   \n",
      "2        1          2        5       4       3       2          9   \n",
      "3        1          1        4       4       1       1          6   \n",
      "4        1          1        4       4       1       1          6   \n",
      "5        1          2        5       4       3       2          9   \n",
      "\n",
      "           Segment  \n",
      "1  Loyal Customers  \n",
      "2   Best Customers  \n",
      "3  Loyal Customers  \n",
      "4  Loyal Customers  \n",
      "5   Best Customers  \n"
     ]
    }
   ],
   "execution_count": 137
  },
  {
   "metadata": {},
   "cell_type": "markdown",
   "source": [
    "\n",
    "## **2. Pricing Analysis**\n",
    "### 📊 Gabor-Granger Pricing Analysis\n",
    "\n",
    "---\n",
    "\n",
    "This report analyzes pricing strategies for **Surfing** and **Horse Riding** using:\n",
    "- **Demand & Revenue Analysis**\n",
    "- **Price Sensitivity Categorization**\n",
    "- **Price Elasticity Measurement**\n"
   ]
  },
  {
   "metadata": {
    "ExecuteTime": {
     "end_time": "2025-02-09T16:14:12.232264Z",
     "start_time": "2025-02-09T16:14:12.013882Z"
    }
   },
   "cell_type": "code",
   "source": [
    "pricing_df = survey_data_cleaned\n",
    "print(\"📌 Unique min prices for Surfing:\", sorted(pricing_df['min_surfing_price'].dropna().unique()))\n",
    "print(\"📌 Unique min prices for Horse Riding:\", sorted(pricing_df['min_horse_price'].dropna().unique()))\n",
    "print(\"📌 Unique max prices for Surfing:\", sorted(pricing_df['max_surfing_price'].dropna().unique()))\n",
    "print(\"📌 Unique max prices for Horse Riding:\", sorted(pricing_df['max_horse_price'].dropna().unique()))\n",
    "pricing_df['price_sensitivity'] = pricing_df['max_total_price'] - pricing_df['min_total_price']\n",
    "\n",
    "# Categorize customers based on their price sensitivity\n",
    "pricing_df['sensitivity_category'] = pd.cut(\n",
    "    pricing_df['price_sensitivity'],\n",
    "    bins=[-1, 5, 15, 50, np.inf],  # Define sensitivity bins\n",
    "    labels=[\"Low\", \"Moderate\", \"High\", \"Very High\"]\n",
    ")\n",
    "    \n",
    "# Function to plot revenue curves\n",
    "def plot_revenue_curve(price_column, title):\n",
    "    price_levels = sorted(pricing_df[price_column].dropna().unique())\n",
    "    revenues = [p * sum(pricing_df[price_column] <= p) for p in price_levels]\n",
    "\n",
    "    plt.figure(figsize=(10, 5))\n",
    "    plt.plot(price_levels, revenues, marker='o', linestyle='-', color='green')\n",
    "    plt.xlabel(\"Price (€)\")\n",
    "    plt.ylabel(\"Revenue (€)\")\n",
    "    plt.title(f\"Revenue Maximization Curve for {title}\")\n",
    "    plt.grid(True)\n",
    "    plt.show()\n",
    "\n",
    "plot_revenue_curve(\"min_surfing_price\", \"Surfing\")\n",
    "plot_revenue_curve(\"min_horse_price\", \"Horse Riding\")"
   ],
   "outputs": [
    {
     "name": "stdout",
     "output_type": "stream",
     "text": [
      "📌 Unique min prices for Surfing: [np.float64(0.0), np.float64(20.0)]\n",
      "📌 Unique min prices for Horse Riding: [np.float64(0.0), np.float64(75.0), np.float64(100.0)]\n",
      "📌 Unique max prices for Surfing: [np.float64(0.0), np.float64(20.0), np.float64(30.0), np.float64(40.0), np.float64(50.0), np.float64(60.0)]\n",
      "📌 Unique max prices for Horse Riding: [np.float64(0.0), np.float64(75.0), np.float64(100.0), np.float64(125.0), np.float64(150.0), np.float64(175.0)]\n"
     ]
    },
    {
     "data": {
      "text/plain": [
       "<Figure size 1000x500 with 1 Axes>"
      ],
      "image/png": "[encoded data removed]"
     },
     "metadata": {},
     "output_type": "display_data"
    },
    {
     "data": {
      "text/plain": [
       "<Figure size 1000x500 with 1 Axes>"
      ],
      "image/png": "[encoded data removed]"
     },
     "metadata": {},
     "output_type": "display_data"
    }
   ],
   "execution_count": 138
  },
  {
   "metadata": {
    "ExecuteTime": {
     "end_time": "2025-02-09T16:19:44.247378Z",
     "start_time": "2025-02-09T16:19:44.223366Z"
    }
   },
   "cell_type": "code",
   "source": [
    "import numpy as np\n",
    "\n",
    "# Function to calculate price elasticity (ignoring 0€ prices)\n",
    "def compute_price_elasticity(price_column, title):\n",
    "    price_levels = sorted(pricing_df[price_column].dropna().unique())\n",
    "\n",
    "    # Remove 0.0 from price levels to avoid division by zero\n",
    "    price_levels = [p for p in price_levels if p > 0]\n",
    "\n",
    "    if len(price_levels) < 2:\n",
    "        print(f\"⚠️ Not enough price levels to compute elasticity for {title}. Skipping.\")\n",
    "        return\n",
    "\n",
    "    demand = [sum(pricing_df[price_column] <= p) for p in price_levels]\n",
    "\n",
    "    # Compute percentage change in price & demand\n",
    "    price_changes = np.diff(price_levels) / np.array(price_levels[:-1])  # % Change in Price\n",
    "    demand_changes = np.diff(demand) / np.array(demand[:-1])  # % Change in Demand\n",
    "\n",
    "    # Compute price elasticity\n",
    "    price_elasticity = demand_changes / price_changes\n",
    "\n",
    "    print(f\"\\n📌 Price Elasticity for {title}:\")\n",
    "    for i in range(len(price_elasticity)):\n",
    "        print(f\"  From {price_levels[i]}€ to {price_levels[i+1]}€ → Elasticity: {price_elasticity[i]:.2f}\")\n",
    "\n",
    "# Compute elasticity for Surfing and Horse Riding\n",
    "compute_price_elasticity(\"min_surfing_price\", \"Surfing\")\n",
    "compute_price_elasticity(\"min_horse_price\", \"Horse Riding\")"
   ],
   "outputs": [
    {
     "name": "stdout",
     "output_type": "stream",
     "text": [
      "⚠️ Not enough price levels to compute elasticity for Surfing. Skipping.\n",
      "\n",
      "📌 Price Elasticity for Horse Riding:\n",
      "  From 75.0€ to 100.0€ → Elasticity: 0.09\n"
     ]
    }
   ],
   "execution_count": 148
  },
  {
   "cell_type": "markdown",
   "metadata": {},
   "source": [
    "#### **Methodology**\n",
    "##### **Step 1: Unique Price Levels**\n",
    "###### **Findings:**\n",
    "- **Surfing:** Customers only set 0€ or 20€ as their minimum price.\n",
    "- **Horse Riding:** Minimum price levels were 0€, 75€, and 100€, while maximum prices went up to 175€.\n",
    "\n",
    "###### **Implications:**\n",
    "✅ Surfing has only one relevant price level (20€), meaning we cannot analyze different pricing scenarios.  \n",
    "✅ Horse Riding has more variation but is limited to high price points.  \n",
    "\n",
    "---\n",
    "\n",
    "##### **Step 2: Price Sensitivity Analysis**\n",
    "###### **Sensitivity Distribution**\n",
    "| Sensitivity Level | Customer Count |\n",
    "|------------------|---------------|\n",
    "| **Very High**    | **54** customers (78%) |\n",
    "| **Low**         | **6** customers |\n",
    "| **Moderate**    | **5** customers |\n",
    "| **High**        | **4** customers |\n",
    "\n",
    "###### **Findings:**\n",
    "- Most customers (78%) are \"Very High Sensitivity\", meaning they have large flexibility between min and max price.\n",
    "- Only 6 customers have \"Low Sensitivity\", meaning very few people are willing to pay a fixed price without concern.\n",
    "\n",
    "###### **Implications:**\n",
    "✅ Revenue results might be skewed toward high-sensitivity customers.  \n",
    "✅ A premium pricing strategy may not work well, since most people are highly price-sensitive.  \n",
    "\n",
    "---\n",
    "\n",
    "##### **Step 3: Demand at Different Price Levels**\n",
    "###### **Surfing**\n",
    "| Price (€) | Customers Willing to Pay |\n",
    "|-----------|-------------------------|\n",
    "| **0.0€**  | **3** customers |\n",
    "| **20.0€** | **69** customers |\n",
    "\n",
    "###### **Horse Riding**\n",
    "| Price (€) | Customers Willing to Pay |\n",
    "|-----------|-------------------------|\n",
    "| **0.0€**  | **13** customers |\n",
    "| **75.0€** | **67** customers |\n",
    "| **100.0€** | **69** customers |\n",
    "\n",
    "###### **Findings:**\n",
    "- Surfing only has 20€ as a meaningful price level—there’s no pricing diversity.\n",
    "- Horse Riding demand is flat at 75€ and 100€, meaning people accept both prices equally.\n",
    "\n",
    "###### **Implications:**\n",
    "✅ We cannot optimize Surfing prices further unless we introduce new price levels (30€, 40€, 50€).  \n",
    "✅ For Horse Riding, we might be underpricing since people don’t drop off at 100€.  \n",
    "\n",
    "---\n",
    "\n",
    "##### **Step 4: Revenue Maximization Analysis**\n",
    "###### **Revenue Curves**\n",
    "- **Surfing:** Revenue keeps increasing with price, meaning there is no peak.  \n",
    "- **Horse Riding:** Revenue also keeps increasing, suggesting demand is stable up to 100€.  \n",
    "\n",
    "###### **Findings:**\n",
    "✅ Revenue does not peak in either activity. \n",
    "✅ This suggests we are missing the point where demand starts to drop.  \n",
    "\n",
    "###### **Implications:**\n",
    "✅ For Surfing, we need prices above 20€ to test higher price points.  \n",
    "✅ For Horse Riding, lower prices (e.g., 50€, 60€) should be tested to see if demand increases.  \n",
    "\n",
    "---\n",
    "\n",
    "##### **Step 5: Price Elasticity Analysis**\n",
    "###### **Elasticity Results**\n",
    "| Activity | Price Range | Elasticity |\n",
    "|----------|-------------|------------|\n",
    "| Surfing  | Skipped     | ❌ Not enough price levels |\n",
    "| Horse Riding | 75€ → 100€  | 0.09 (Highly Inelastic) |\n",
    "\n",
    "###### **Findings:**\n",
    "✅ Surfing elasticity could not be computed due to a lack of price variety.  \n",
    "✅ Horse Riding has inelastic demand (0.09), meaning customers are willing to pay more without major drop-offs.  \n",
    "\n",
    "###### **Implications:**\n",
    "✅ For Horse Riding, we may not be pricing high enough. \n",
    "✅ For Surfing, price testing at 30€, 40€, and 50€ is needed. \n",
    "\n",
    "---\n",
    "\n",
    "## 3. Needs-based segmentation\n"
   ]
  },
  {
   "cell_type": "markdown",
   "metadata": {},
   "source": [
    "### Steps for Needs-based Segmentation\n",
    "\n",
    "✅ Step 1: Identify Key Needs-Based Attributes\n",
    "the following columns are useful for understanding needs-based segmentation:\n",
    "\"5. Cost importance\"\n",
    "\"6. Appeals importance\"\n",
    "\"7. Accessibility importance\"\n",
    "\"8. Amenities importance\"\n",
    "\"9. Activities importance\"\n",
    "Preferences (What customers value most):\n",
    "\"17. Single factor_*\" (Choice of activities, price, location, quality, etc.)\n",
    "\"10-16\" (Extra atmosphere, location, amenities, activities, excellence perception)\n",
    "Motivations for Attending Events:\n",
    "\"4. Motivation_*\" (Adventure, Relaxation, Socializing, etc.)\n",
    "\n",
    "\n",
    "✅ Step 2: Segmentation via Clustering\n",
    "We can use K-Means Clustering on these attributes to create needs-based customer segments (e.g., Budget-Conscious, Experience-Seekers, Social Attendees).\n",
    "\n",
    "\n",
    "✅ Step 3: Results Discussion\n",
    "Once we get clusters, we analyze:\n",
    "\n",
    "-- Which attributes were most important?\n",
    "\n",
    "-- Are the segments meaningful?\n",
    "\n",
    "-- Any bias due to survey limitations?"
   ]
  },
  {
   "cell_type": "code",
   "metadata": {
    "ExecuteTime": {
     "end_time": "2025-02-09T16:14:14.436070Z",
     "start_time": "2025-02-09T16:14:14.433152Z"
    }
   },
   "source": [
    "# Select relevant columns for needs-based segmentation\n",
    "features = [\"5. Cost importance\", \"6. Appeals importance\", \"7. Accessibility importance\", \n",
    "            \"8. Amenities importance\", \"9. Activities importance\", \n",
    "            \"17. Single factor_Broad choice of activities\", \"17. Single factor_Convenient or appealing location\", \n",
    "            \"17. Single factor_High-quality amenities\", \"17. Single factor_Lowest price\", \n",
    "            \"4. Motivation_Adventure and excitement\", \"4. Motivation_Relaxation and escaping routine\", \n",
    "            \"4. Motivation_Socializing and meeting new people\"]\n",
    "\n",
    "data_cluster = survey_data_cleaned[features].copy()\n"
   ],
   "outputs": [],
   "execution_count": 140
  },
  {
   "cell_type": "code",
   "metadata": {
    "ExecuteTime": {
     "end_time": "2025-02-09T16:14:14.931105Z",
     "start_time": "2025-02-09T16:14:14.925430Z"
    }
   },
   "source": [
    "# Normalize the data\n",
    "scaler = StandardScaler()\n",
    "data_scaled = scaler.fit_transform(data_cluster)\n"
   ],
   "outputs": [],
   "execution_count": 141
  },
  {
   "cell_type": "code",
   "metadata": {
    "ExecuteTime": {
     "end_time": "2025-02-09T16:14:15.689132Z",
     "start_time": "2025-02-09T16:14:15.416976Z"
    }
   },
   "source": [
    "# Elbow Method & Silhouette Score to find the optimal number of clusters\n",
    "wcss = []\n",
    "silhouette_scores = []\n",
    "\n",
    "for k in range(2, 11):  # Starting from 2 since silhouette score isn't defined for 1 cluster\n",
    "    kmeans = KMeans(n_clusters=k, init='k-means++', random_state=42, n_init=10)\n",
    "    kmeans.fit(data_scaled)\n",
    "    wcss.append(kmeans.inertia_)\n",
    "    silhouette_avg = silhouette_score(data_scaled, kmeans.labels_)\n",
    "    silhouette_scores.append(silhouette_avg)\n"
   ],
   "outputs": [],
   "execution_count": 142
  },
  {
   "cell_type": "code",
   "metadata": {
    "ExecuteTime": {
     "end_time": "2025-02-09T16:14:16.176682Z",
     "start_time": "2025-02-09T16:14:16.004101Z"
    }
   },
   "source": [
    "# Plotting the Elbow Method\n",
    "plt.figure(figsize=(12, 5))\n",
    "\n",
    "# Elbow Plot\n",
    "plt.subplot(1, 2, 1)\n",
    "plt.plot(range(2, 11), wcss, marker='o')\n",
    "plt.xlabel('Number of Clusters (k)')\n",
    "plt.ylabel('WCSS')\n",
    "plt.title('Elbow Method for Optimal k')\n",
    "\n",
    "# Silhouette Score Plot\n",
    "plt.subplot(1, 2, 2)\n",
    "plt.plot(range(2, 11), silhouette_scores, marker='s', color='green')\n",
    "plt.xlabel('Number of Clusters (k)')\n",
    "plt.ylabel('Silhouette Score')\n",
    "plt.title('Silhouette Score Analysis')\n",
    "\n",
    "plt.tight_layout()\n",
    "plt.show()\n"
   ],
   "outputs": [
    {
     "data": {
      "text/plain": [
       "<Figure size 1200x500 with 2 Axes>"
      ],
      "image/png": "[encoded data removed]"
     },
     "metadata": {},
     "output_type": "display_data"
    }
   ],
   "execution_count": 143
  },
  {
   "cell_type": "code",
   "metadata": {
    "ExecuteTime": {
     "end_time": "2025-02-09T16:14:16.553315Z",
     "start_time": "2025-02-09T16:14:16.549829Z"
    }
   },
   "source": [
    "# Determine the optimal k based on the highest Silhouette Score\n",
    "optimal_k = range(2, 11)[np.argmax(silhouette_scores)]\n",
    "print(f\"Optimal number of clusters based on Silhouette Score: {optimal_k}\")\n"
   ],
   "outputs": [
    {
     "name": "stdout",
     "output_type": "stream",
     "text": [
      "Optimal number of clusters based on Silhouette Score: 4\n"
     ]
    }
   ],
   "execution_count": 144
  },
  {
   "cell_type": "code",
   "metadata": {
    "ExecuteTime": {
     "end_time": "2025-02-09T16:14:17.397960Z",
     "start_time": "2025-02-09T16:14:17.383258Z"
    }
   },
   "source": [
    "# Apply K-Means with the optimal number of clusters\n",
    "kmeans_final = KMeans(n_clusters=optimal_k, init='k-means++', random_state=42, n_init=10)\n",
    "survey_data_cleaned[\"Needs_Cluster\"] = kmeans_final.fit_predict(data_scaled)\n"
   ],
   "outputs": [],
   "execution_count": 145
  },
  {
   "cell_type": "code",
   "metadata": {
    "ExecuteTime": {
     "end_time": "2025-02-09T16:14:19.474304Z",
     "start_time": "2025-02-09T16:14:18.437603Z"
    }
   },
   "source": [
    "# Display cluster averages\n",
    "print(survey_data_cleaned.groupby(\"Needs_Cluster\")[features].mean())\n"
   ],
   "outputs": [
    {
     "ename": "TypeError",
     "evalue": "agg function failed [how->mean,dtype->object]",
     "output_type": "error",
     "traceback": [
      "\u001B[0;31m---------------------------------------------------------------------------\u001B[0m",
      "\u001B[0;31mTypeError\u001B[0m                                 Traceback (most recent call last)",
      "File \u001B[0;32m~/github-projects/network-science-learning/venv/lib/python3.9/site-packages/pandas/core/groupby/groupby.py:1942\u001B[0m, in \u001B[0;36mGroupBy._agg_py_fallback\u001B[0;34m(self, how, values, ndim, alt)\u001B[0m\n\u001B[1;32m   1941\u001B[0m \u001B[38;5;28;01mtry\u001B[39;00m:\n\u001B[0;32m-> 1942\u001B[0m     res_values \u001B[38;5;241m=\u001B[39m \u001B[38;5;28;43mself\u001B[39;49m\u001B[38;5;241;43m.\u001B[39;49m\u001B[43m_grouper\u001B[49m\u001B[38;5;241;43m.\u001B[39;49m\u001B[43magg_series\u001B[49m\u001B[43m(\u001B[49m\u001B[43mser\u001B[49m\u001B[43m,\u001B[49m\u001B[43m \u001B[49m\u001B[43malt\u001B[49m\u001B[43m,\u001B[49m\u001B[43m \u001B[49m\u001B[43mpreserve_dtype\u001B[49m\u001B[38;5;241;43m=\u001B[39;49m\u001B[38;5;28;43;01mTrue\u001B[39;49;00m\u001B[43m)\u001B[49m\n\u001B[1;32m   1943\u001B[0m \u001B[38;5;28;01mexcept\u001B[39;00m \u001B[38;5;167;01mException\u001B[39;00m \u001B[38;5;28;01mas\u001B[39;00m err:\n",
      "File \u001B[0;32m~/github-projects/network-science-learning/venv/lib/python3.9/site-packages/pandas/core/groupby/ops.py:864\u001B[0m, in \u001B[0;36mBaseGrouper.agg_series\u001B[0;34m(self, obj, func, preserve_dtype)\u001B[0m\n\u001B[1;32m    862\u001B[0m     preserve_dtype \u001B[38;5;241m=\u001B[39m \u001B[38;5;28;01mTrue\u001B[39;00m\n\u001B[0;32m--> 864\u001B[0m result \u001B[38;5;241m=\u001B[39m \u001B[38;5;28;43mself\u001B[39;49m\u001B[38;5;241;43m.\u001B[39;49m\u001B[43m_aggregate_series_pure_python\u001B[49m\u001B[43m(\u001B[49m\u001B[43mobj\u001B[49m\u001B[43m,\u001B[49m\u001B[43m \u001B[49m\u001B[43mfunc\u001B[49m\u001B[43m)\u001B[49m\n\u001B[1;32m    866\u001B[0m npvalues \u001B[38;5;241m=\u001B[39m lib\u001B[38;5;241m.\u001B[39mmaybe_convert_objects(result, try_float\u001B[38;5;241m=\u001B[39m\u001B[38;5;28;01mFalse\u001B[39;00m)\n",
      "File \u001B[0;32m~/github-projects/network-science-learning/venv/lib/python3.9/site-packages/pandas/core/groupby/ops.py:885\u001B[0m, in \u001B[0;36mBaseGrouper._aggregate_series_pure_python\u001B[0;34m(self, obj, func)\u001B[0m\n\u001B[1;32m    884\u001B[0m \u001B[38;5;28;01mfor\u001B[39;00m i, group \u001B[38;5;129;01min\u001B[39;00m \u001B[38;5;28menumerate\u001B[39m(splitter):\n\u001B[0;32m--> 885\u001B[0m     res \u001B[38;5;241m=\u001B[39m \u001B[43mfunc\u001B[49m\u001B[43m(\u001B[49m\u001B[43mgroup\u001B[49m\u001B[43m)\u001B[49m\n\u001B[1;32m    886\u001B[0m     res \u001B[38;5;241m=\u001B[39m extract_result(res)\n",
      "File \u001B[0;32m~/github-projects/network-science-learning/venv/lib/python3.9/site-packages/pandas/core/groupby/groupby.py:2454\u001B[0m, in \u001B[0;36mGroupBy.mean.<locals>.<lambda>\u001B[0;34m(x)\u001B[0m\n\u001B[1;32m   2451\u001B[0m \u001B[38;5;28;01melse\u001B[39;00m:\n\u001B[1;32m   2452\u001B[0m     result \u001B[38;5;241m=\u001B[39m \u001B[38;5;28mself\u001B[39m\u001B[38;5;241m.\u001B[39m_cython_agg_general(\n\u001B[1;32m   2453\u001B[0m         \u001B[38;5;124m\"\u001B[39m\u001B[38;5;124mmean\u001B[39m\u001B[38;5;124m\"\u001B[39m,\n\u001B[0;32m-> 2454\u001B[0m         alt\u001B[38;5;241m=\u001B[39m\u001B[38;5;28;01mlambda\u001B[39;00m x: \u001B[43mSeries\u001B[49m\u001B[43m(\u001B[49m\u001B[43mx\u001B[49m\u001B[43m,\u001B[49m\u001B[43m \u001B[49m\u001B[43mcopy\u001B[49m\u001B[38;5;241;43m=\u001B[39;49m\u001B[38;5;28;43;01mFalse\u001B[39;49;00m\u001B[43m)\u001B[49m\u001B[38;5;241;43m.\u001B[39;49m\u001B[43mmean\u001B[49m\u001B[43m(\u001B[49m\u001B[43mnumeric_only\u001B[49m\u001B[38;5;241;43m=\u001B[39;49m\u001B[43mnumeric_only\u001B[49m\u001B[43m)\u001B[49m,\n\u001B[1;32m   2455\u001B[0m         numeric_only\u001B[38;5;241m=\u001B[39mnumeric_only,\n\u001B[1;32m   2456\u001B[0m     )\n\u001B[1;32m   2457\u001B[0m     \u001B[38;5;28;01mreturn\u001B[39;00m result\u001B[38;5;241m.\u001B[39m__finalize__(\u001B[38;5;28mself\u001B[39m\u001B[38;5;241m.\u001B[39mobj, method\u001B[38;5;241m=\u001B[39m\u001B[38;5;124m\"\u001B[39m\u001B[38;5;124mgroupby\u001B[39m\u001B[38;5;124m\"\u001B[39m)\n",
      "File \u001B[0;32m~/github-projects/network-science-learning/venv/lib/python3.9/site-packages/pandas/core/series.py:6549\u001B[0m, in \u001B[0;36mSeries.mean\u001B[0;34m(self, axis, skipna, numeric_only, **kwargs)\u001B[0m\n\u001B[1;32m   6541\u001B[0m \u001B[38;5;129m@doc\u001B[39m(make_doc(\u001B[38;5;124m\"\u001B[39m\u001B[38;5;124mmean\u001B[39m\u001B[38;5;124m\"\u001B[39m, ndim\u001B[38;5;241m=\u001B[39m\u001B[38;5;241m1\u001B[39m))\n\u001B[1;32m   6542\u001B[0m \u001B[38;5;28;01mdef\u001B[39;00m \u001B[38;5;21mmean\u001B[39m(\n\u001B[1;32m   6543\u001B[0m     \u001B[38;5;28mself\u001B[39m,\n\u001B[0;32m   (...)\u001B[0m\n\u001B[1;32m   6547\u001B[0m     \u001B[38;5;241m*\u001B[39m\u001B[38;5;241m*\u001B[39mkwargs,\n\u001B[1;32m   6548\u001B[0m ):\n\u001B[0;32m-> 6549\u001B[0m     \u001B[38;5;28;01mreturn\u001B[39;00m \u001B[43mNDFrame\u001B[49m\u001B[38;5;241;43m.\u001B[39;49m\u001B[43mmean\u001B[49m\u001B[43m(\u001B[49m\u001B[38;5;28;43mself\u001B[39;49m\u001B[43m,\u001B[49m\u001B[43m \u001B[49m\u001B[43maxis\u001B[49m\u001B[43m,\u001B[49m\u001B[43m \u001B[49m\u001B[43mskipna\u001B[49m\u001B[43m,\u001B[49m\u001B[43m \u001B[49m\u001B[43mnumeric_only\u001B[49m\u001B[43m,\u001B[49m\u001B[43m \u001B[49m\u001B[38;5;241;43m*\u001B[39;49m\u001B[38;5;241;43m*\u001B[39;49m\u001B[43mkwargs\u001B[49m\u001B[43m)\u001B[49m\n",
      "File \u001B[0;32m~/github-projects/network-science-learning/venv/lib/python3.9/site-packages/pandas/core/generic.py:12420\u001B[0m, in \u001B[0;36mNDFrame.mean\u001B[0;34m(self, axis, skipna, numeric_only, **kwargs)\u001B[0m\n\u001B[1;32m  12413\u001B[0m \u001B[38;5;28;01mdef\u001B[39;00m \u001B[38;5;21mmean\u001B[39m(\n\u001B[1;32m  12414\u001B[0m     \u001B[38;5;28mself\u001B[39m,\n\u001B[1;32m  12415\u001B[0m     axis: Axis \u001B[38;5;241m|\u001B[39m \u001B[38;5;28;01mNone\u001B[39;00m \u001B[38;5;241m=\u001B[39m \u001B[38;5;241m0\u001B[39m,\n\u001B[0;32m   (...)\u001B[0m\n\u001B[1;32m  12418\u001B[0m     \u001B[38;5;241m*\u001B[39m\u001B[38;5;241m*\u001B[39mkwargs,\n\u001B[1;32m  12419\u001B[0m ) \u001B[38;5;241m-\u001B[39m\u001B[38;5;241m>\u001B[39m Series \u001B[38;5;241m|\u001B[39m \u001B[38;5;28mfloat\u001B[39m:\n\u001B[0;32m> 12420\u001B[0m     \u001B[38;5;28;01mreturn\u001B[39;00m \u001B[38;5;28;43mself\u001B[39;49m\u001B[38;5;241;43m.\u001B[39;49m\u001B[43m_stat_function\u001B[49m\u001B[43m(\u001B[49m\n\u001B[1;32m  12421\u001B[0m \u001B[43m        \u001B[49m\u001B[38;5;124;43m\"\u001B[39;49m\u001B[38;5;124;43mmean\u001B[39;49m\u001B[38;5;124;43m\"\u001B[39;49m\u001B[43m,\u001B[49m\u001B[43m \u001B[49m\u001B[43mnanops\u001B[49m\u001B[38;5;241;43m.\u001B[39;49m\u001B[43mnanmean\u001B[49m\u001B[43m,\u001B[49m\u001B[43m \u001B[49m\u001B[43maxis\u001B[49m\u001B[43m,\u001B[49m\u001B[43m \u001B[49m\u001B[43mskipna\u001B[49m\u001B[43m,\u001B[49m\u001B[43m \u001B[49m\u001B[43mnumeric_only\u001B[49m\u001B[43m,\u001B[49m\u001B[43m \u001B[49m\u001B[38;5;241;43m*\u001B[39;49m\u001B[38;5;241;43m*\u001B[39;49m\u001B[43mkwargs\u001B[49m\n\u001B[1;32m  12422\u001B[0m \u001B[43m    \u001B[49m\u001B[43m)\u001B[49m\n",
      "File \u001B[0;32m~/github-projects/network-science-learning/venv/lib/python3.9/site-packages/pandas/core/generic.py:12377\u001B[0m, in \u001B[0;36mNDFrame._stat_function\u001B[0;34m(self, name, func, axis, skipna, numeric_only, **kwargs)\u001B[0m\n\u001B[1;32m  12375\u001B[0m validate_bool_kwarg(skipna, \u001B[38;5;124m\"\u001B[39m\u001B[38;5;124mskipna\u001B[39m\u001B[38;5;124m\"\u001B[39m, none_allowed\u001B[38;5;241m=\u001B[39m\u001B[38;5;28;01mFalse\u001B[39;00m)\n\u001B[0;32m> 12377\u001B[0m \u001B[38;5;28;01mreturn\u001B[39;00m \u001B[38;5;28;43mself\u001B[39;49m\u001B[38;5;241;43m.\u001B[39;49m\u001B[43m_reduce\u001B[49m\u001B[43m(\u001B[49m\n\u001B[1;32m  12378\u001B[0m \u001B[43m    \u001B[49m\u001B[43mfunc\u001B[49m\u001B[43m,\u001B[49m\u001B[43m \u001B[49m\u001B[43mname\u001B[49m\u001B[38;5;241;43m=\u001B[39;49m\u001B[43mname\u001B[49m\u001B[43m,\u001B[49m\u001B[43m \u001B[49m\u001B[43maxis\u001B[49m\u001B[38;5;241;43m=\u001B[39;49m\u001B[43maxis\u001B[49m\u001B[43m,\u001B[49m\u001B[43m \u001B[49m\u001B[43mskipna\u001B[49m\u001B[38;5;241;43m=\u001B[39;49m\u001B[43mskipna\u001B[49m\u001B[43m,\u001B[49m\u001B[43m \u001B[49m\u001B[43mnumeric_only\u001B[49m\u001B[38;5;241;43m=\u001B[39;49m\u001B[43mnumeric_only\u001B[49m\n\u001B[1;32m  12379\u001B[0m \u001B[43m\u001B[49m\u001B[43m)\u001B[49m\n",
      "File \u001B[0;32m~/github-projects/network-science-learning/venv/lib/python3.9/site-packages/pandas/core/series.py:6457\u001B[0m, in \u001B[0;36mSeries._reduce\u001B[0;34m(self, op, name, axis, skipna, numeric_only, filter_type, **kwds)\u001B[0m\n\u001B[1;32m   6453\u001B[0m     \u001B[38;5;28;01mraise\u001B[39;00m \u001B[38;5;167;01mTypeError\u001B[39;00m(\n\u001B[1;32m   6454\u001B[0m         \u001B[38;5;124mf\u001B[39m\u001B[38;5;124m\"\u001B[39m\u001B[38;5;124mSeries.\u001B[39m\u001B[38;5;132;01m{\u001B[39;00mname\u001B[38;5;132;01m}\u001B[39;00m\u001B[38;5;124m does not allow \u001B[39m\u001B[38;5;132;01m{\u001B[39;00mkwd_name\u001B[38;5;132;01m}\u001B[39;00m\u001B[38;5;124m=\u001B[39m\u001B[38;5;132;01m{\u001B[39;00mnumeric_only\u001B[38;5;132;01m}\u001B[39;00m\u001B[38;5;124m \u001B[39m\u001B[38;5;124m\"\u001B[39m\n\u001B[1;32m   6455\u001B[0m         \u001B[38;5;124m\"\u001B[39m\u001B[38;5;124mwith non-numeric dtypes.\u001B[39m\u001B[38;5;124m\"\u001B[39m\n\u001B[1;32m   6456\u001B[0m     )\n\u001B[0;32m-> 6457\u001B[0m \u001B[38;5;28;01mreturn\u001B[39;00m \u001B[43mop\u001B[49m\u001B[43m(\u001B[49m\u001B[43mdelegate\u001B[49m\u001B[43m,\u001B[49m\u001B[43m \u001B[49m\u001B[43mskipna\u001B[49m\u001B[38;5;241;43m=\u001B[39;49m\u001B[43mskipna\u001B[49m\u001B[43m,\u001B[49m\u001B[43m \u001B[49m\u001B[38;5;241;43m*\u001B[39;49m\u001B[38;5;241;43m*\u001B[39;49m\u001B[43mkwds\u001B[49m\u001B[43m)\u001B[49m\n",
      "File \u001B[0;32m~/github-projects/network-science-learning/venv/lib/python3.9/site-packages/pandas/core/nanops.py:147\u001B[0m, in \u001B[0;36mbottleneck_switch.__call__.<locals>.f\u001B[0;34m(values, axis, skipna, **kwds)\u001B[0m\n\u001B[1;32m    146\u001B[0m \u001B[38;5;28;01melse\u001B[39;00m:\n\u001B[0;32m--> 147\u001B[0m     result \u001B[38;5;241m=\u001B[39m \u001B[43malt\u001B[49m\u001B[43m(\u001B[49m\u001B[43mvalues\u001B[49m\u001B[43m,\u001B[49m\u001B[43m \u001B[49m\u001B[43maxis\u001B[49m\u001B[38;5;241;43m=\u001B[39;49m\u001B[43maxis\u001B[49m\u001B[43m,\u001B[49m\u001B[43m \u001B[49m\u001B[43mskipna\u001B[49m\u001B[38;5;241;43m=\u001B[39;49m\u001B[43mskipna\u001B[49m\u001B[43m,\u001B[49m\u001B[43m \u001B[49m\u001B[38;5;241;43m*\u001B[39;49m\u001B[38;5;241;43m*\u001B[39;49m\u001B[43mkwds\u001B[49m\u001B[43m)\u001B[49m\n\u001B[1;32m    149\u001B[0m \u001B[38;5;28;01mreturn\u001B[39;00m result\n",
      "File \u001B[0;32m~/github-projects/network-science-learning/venv/lib/python3.9/site-packages/pandas/core/nanops.py:404\u001B[0m, in \u001B[0;36m_datetimelike_compat.<locals>.new_func\u001B[0;34m(values, axis, skipna, mask, **kwargs)\u001B[0m\n\u001B[1;32m    402\u001B[0m     mask \u001B[38;5;241m=\u001B[39m isna(values)\n\u001B[0;32m--> 404\u001B[0m result \u001B[38;5;241m=\u001B[39m \u001B[43mfunc\u001B[49m\u001B[43m(\u001B[49m\u001B[43mvalues\u001B[49m\u001B[43m,\u001B[49m\u001B[43m \u001B[49m\u001B[43maxis\u001B[49m\u001B[38;5;241;43m=\u001B[39;49m\u001B[43maxis\u001B[49m\u001B[43m,\u001B[49m\u001B[43m \u001B[49m\u001B[43mskipna\u001B[49m\u001B[38;5;241;43m=\u001B[39;49m\u001B[43mskipna\u001B[49m\u001B[43m,\u001B[49m\u001B[43m \u001B[49m\u001B[43mmask\u001B[49m\u001B[38;5;241;43m=\u001B[39;49m\u001B[43mmask\u001B[49m\u001B[43m,\u001B[49m\u001B[43m \u001B[49m\u001B[38;5;241;43m*\u001B[39;49m\u001B[38;5;241;43m*\u001B[39;49m\u001B[43mkwargs\u001B[49m\u001B[43m)\u001B[49m\n\u001B[1;32m    406\u001B[0m \u001B[38;5;28;01mif\u001B[39;00m datetimelike:\n",
      "File \u001B[0;32m~/github-projects/network-science-learning/venv/lib/python3.9/site-packages/pandas/core/nanops.py:720\u001B[0m, in \u001B[0;36mnanmean\u001B[0;34m(values, axis, skipna, mask)\u001B[0m\n\u001B[1;32m    719\u001B[0m the_sum \u001B[38;5;241m=\u001B[39m values\u001B[38;5;241m.\u001B[39msum(axis, dtype\u001B[38;5;241m=\u001B[39mdtype_sum)\n\u001B[0;32m--> 720\u001B[0m the_sum \u001B[38;5;241m=\u001B[39m \u001B[43m_ensure_numeric\u001B[49m\u001B[43m(\u001B[49m\u001B[43mthe_sum\u001B[49m\u001B[43m)\u001B[49m\n\u001B[1;32m    722\u001B[0m \u001B[38;5;28;01mif\u001B[39;00m axis \u001B[38;5;129;01mis\u001B[39;00m \u001B[38;5;129;01mnot\u001B[39;00m \u001B[38;5;28;01mNone\u001B[39;00m \u001B[38;5;129;01mand\u001B[39;00m \u001B[38;5;28mgetattr\u001B[39m(the_sum, \u001B[38;5;124m\"\u001B[39m\u001B[38;5;124mndim\u001B[39m\u001B[38;5;124m\"\u001B[39m, \u001B[38;5;28;01mFalse\u001B[39;00m):\n",
      "File \u001B[0;32m~/github-projects/network-science-learning/venv/lib/python3.9/site-packages/pandas/core/nanops.py:1701\u001B[0m, in \u001B[0;36m_ensure_numeric\u001B[0;34m(x)\u001B[0m\n\u001B[1;32m   1699\u001B[0m \u001B[38;5;28;01mif\u001B[39;00m \u001B[38;5;28misinstance\u001B[39m(x, \u001B[38;5;28mstr\u001B[39m):\n\u001B[1;32m   1700\u001B[0m     \u001B[38;5;66;03m# GH#44008, GH#36703 avoid casting e.g. strings to numeric\u001B[39;00m\n\u001B[0;32m-> 1701\u001B[0m     \u001B[38;5;28;01mraise\u001B[39;00m \u001B[38;5;167;01mTypeError\u001B[39;00m(\u001B[38;5;124mf\u001B[39m\u001B[38;5;124m\"\u001B[39m\u001B[38;5;124mCould not convert string \u001B[39m\u001B[38;5;124m'\u001B[39m\u001B[38;5;132;01m{\u001B[39;00mx\u001B[38;5;132;01m}\u001B[39;00m\u001B[38;5;124m'\u001B[39m\u001B[38;5;124m to numeric\u001B[39m\u001B[38;5;124m\"\u001B[39m)\n\u001B[1;32m   1702\u001B[0m \u001B[38;5;28;01mtry\u001B[39;00m:\n",
      "\u001B[0;31mTypeError\u001B[0m: Could not convert string '544252' to numeric",
      "\nThe above exception was the direct cause of the following exception:\n",
      "\u001B[0;31mTypeError\u001B[0m                                 Traceback (most recent call last)",
      "Cell \u001B[0;32mIn[146], line 2\u001B[0m\n\u001B[1;32m      1\u001B[0m \u001B[38;5;66;03m# Display cluster averages\u001B[39;00m\n\u001B[0;32m----> 2\u001B[0m \u001B[38;5;28mprint\u001B[39m(\u001B[43msurvey_data_cleaned\u001B[49m\u001B[38;5;241;43m.\u001B[39;49m\u001B[43mgroupby\u001B[49m\u001B[43m(\u001B[49m\u001B[38;5;124;43m\"\u001B[39;49m\u001B[38;5;124;43mNeeds_Cluster\u001B[39;49m\u001B[38;5;124;43m\"\u001B[39;49m\u001B[43m)\u001B[49m\u001B[43m[\u001B[49m\u001B[43mfeatures\u001B[49m\u001B[43m]\u001B[49m\u001B[38;5;241;43m.\u001B[39;49m\u001B[43mmean\u001B[49m\u001B[43m(\u001B[49m\u001B[43m)\u001B[49m)\n",
      "File \u001B[0;32m~/github-projects/network-science-learning/venv/lib/python3.9/site-packages/pandas/core/groupby/groupby.py:2452\u001B[0m, in \u001B[0;36mGroupBy.mean\u001B[0;34m(self, numeric_only, engine, engine_kwargs)\u001B[0m\n\u001B[1;32m   2445\u001B[0m     \u001B[38;5;28;01mreturn\u001B[39;00m \u001B[38;5;28mself\u001B[39m\u001B[38;5;241m.\u001B[39m_numba_agg_general(\n\u001B[1;32m   2446\u001B[0m         grouped_mean,\n\u001B[1;32m   2447\u001B[0m         executor\u001B[38;5;241m.\u001B[39mfloat_dtype_mapping,\n\u001B[1;32m   2448\u001B[0m         engine_kwargs,\n\u001B[1;32m   2449\u001B[0m         min_periods\u001B[38;5;241m=\u001B[39m\u001B[38;5;241m0\u001B[39m,\n\u001B[1;32m   2450\u001B[0m     )\n\u001B[1;32m   2451\u001B[0m \u001B[38;5;28;01melse\u001B[39;00m:\n\u001B[0;32m-> 2452\u001B[0m     result \u001B[38;5;241m=\u001B[39m \u001B[38;5;28;43mself\u001B[39;49m\u001B[38;5;241;43m.\u001B[39;49m\u001B[43m_cython_agg_general\u001B[49m\u001B[43m(\u001B[49m\n\u001B[1;32m   2453\u001B[0m \u001B[43m        \u001B[49m\u001B[38;5;124;43m\"\u001B[39;49m\u001B[38;5;124;43mmean\u001B[39;49m\u001B[38;5;124;43m\"\u001B[39;49m\u001B[43m,\u001B[49m\n\u001B[1;32m   2454\u001B[0m \u001B[43m        \u001B[49m\u001B[43malt\u001B[49m\u001B[38;5;241;43m=\u001B[39;49m\u001B[38;5;28;43;01mlambda\u001B[39;49;00m\u001B[43m \u001B[49m\u001B[43mx\u001B[49m\u001B[43m:\u001B[49m\u001B[43m \u001B[49m\u001B[43mSeries\u001B[49m\u001B[43m(\u001B[49m\u001B[43mx\u001B[49m\u001B[43m,\u001B[49m\u001B[43m \u001B[49m\u001B[43mcopy\u001B[49m\u001B[38;5;241;43m=\u001B[39;49m\u001B[38;5;28;43;01mFalse\u001B[39;49;00m\u001B[43m)\u001B[49m\u001B[38;5;241;43m.\u001B[39;49m\u001B[43mmean\u001B[49m\u001B[43m(\u001B[49m\u001B[43mnumeric_only\u001B[49m\u001B[38;5;241;43m=\u001B[39;49m\u001B[43mnumeric_only\u001B[49m\u001B[43m)\u001B[49m\u001B[43m,\u001B[49m\n\u001B[1;32m   2455\u001B[0m \u001B[43m        \u001B[49m\u001B[43mnumeric_only\u001B[49m\u001B[38;5;241;43m=\u001B[39;49m\u001B[43mnumeric_only\u001B[49m\u001B[43m,\u001B[49m\n\u001B[1;32m   2456\u001B[0m \u001B[43m    \u001B[49m\u001B[43m)\u001B[49m\n\u001B[1;32m   2457\u001B[0m     \u001B[38;5;28;01mreturn\u001B[39;00m result\u001B[38;5;241m.\u001B[39m__finalize__(\u001B[38;5;28mself\u001B[39m\u001B[38;5;241m.\u001B[39mobj, method\u001B[38;5;241m=\u001B[39m\u001B[38;5;124m\"\u001B[39m\u001B[38;5;124mgroupby\u001B[39m\u001B[38;5;124m\"\u001B[39m)\n",
      "File \u001B[0;32m~/github-projects/network-science-learning/venv/lib/python3.9/site-packages/pandas/core/groupby/groupby.py:1998\u001B[0m, in \u001B[0;36mGroupBy._cython_agg_general\u001B[0;34m(self, how, alt, numeric_only, min_count, **kwargs)\u001B[0m\n\u001B[1;32m   1995\u001B[0m     result \u001B[38;5;241m=\u001B[39m \u001B[38;5;28mself\u001B[39m\u001B[38;5;241m.\u001B[39m_agg_py_fallback(how, values, ndim\u001B[38;5;241m=\u001B[39mdata\u001B[38;5;241m.\u001B[39mndim, alt\u001B[38;5;241m=\u001B[39malt)\n\u001B[1;32m   1996\u001B[0m     \u001B[38;5;28;01mreturn\u001B[39;00m result\n\u001B[0;32m-> 1998\u001B[0m new_mgr \u001B[38;5;241m=\u001B[39m \u001B[43mdata\u001B[49m\u001B[38;5;241;43m.\u001B[39;49m\u001B[43mgrouped_reduce\u001B[49m\u001B[43m(\u001B[49m\u001B[43marray_func\u001B[49m\u001B[43m)\u001B[49m\n\u001B[1;32m   1999\u001B[0m res \u001B[38;5;241m=\u001B[39m \u001B[38;5;28mself\u001B[39m\u001B[38;5;241m.\u001B[39m_wrap_agged_manager(new_mgr)\n\u001B[1;32m   2000\u001B[0m \u001B[38;5;28;01mif\u001B[39;00m how \u001B[38;5;129;01min\u001B[39;00m [\u001B[38;5;124m\"\u001B[39m\u001B[38;5;124midxmin\u001B[39m\u001B[38;5;124m\"\u001B[39m, \u001B[38;5;124m\"\u001B[39m\u001B[38;5;124midxmax\u001B[39m\u001B[38;5;124m\"\u001B[39m]:\n",
      "File \u001B[0;32m~/github-projects/network-science-learning/venv/lib/python3.9/site-packages/pandas/core/internals/managers.py:1469\u001B[0m, in \u001B[0;36mBlockManager.grouped_reduce\u001B[0;34m(self, func)\u001B[0m\n\u001B[1;32m   1465\u001B[0m \u001B[38;5;28;01mif\u001B[39;00m blk\u001B[38;5;241m.\u001B[39mis_object:\n\u001B[1;32m   1466\u001B[0m     \u001B[38;5;66;03m# split on object-dtype blocks bc some columns may raise\u001B[39;00m\n\u001B[1;32m   1467\u001B[0m     \u001B[38;5;66;03m#  while others do not.\u001B[39;00m\n\u001B[1;32m   1468\u001B[0m     \u001B[38;5;28;01mfor\u001B[39;00m sb \u001B[38;5;129;01min\u001B[39;00m blk\u001B[38;5;241m.\u001B[39m_split():\n\u001B[0;32m-> 1469\u001B[0m         applied \u001B[38;5;241m=\u001B[39m \u001B[43msb\u001B[49m\u001B[38;5;241;43m.\u001B[39;49m\u001B[43mapply\u001B[49m\u001B[43m(\u001B[49m\u001B[43mfunc\u001B[49m\u001B[43m)\u001B[49m\n\u001B[1;32m   1470\u001B[0m         result_blocks \u001B[38;5;241m=\u001B[39m extend_blocks(applied, result_blocks)\n\u001B[1;32m   1471\u001B[0m \u001B[38;5;28;01melse\u001B[39;00m:\n",
      "File \u001B[0;32m~/github-projects/network-science-learning/venv/lib/python3.9/site-packages/pandas/core/internals/blocks.py:393\u001B[0m, in \u001B[0;36mBlock.apply\u001B[0;34m(self, func, **kwargs)\u001B[0m\n\u001B[1;32m    387\u001B[0m \u001B[38;5;129m@final\u001B[39m\n\u001B[1;32m    388\u001B[0m \u001B[38;5;28;01mdef\u001B[39;00m \u001B[38;5;21mapply\u001B[39m(\u001B[38;5;28mself\u001B[39m, func, \u001B[38;5;241m*\u001B[39m\u001B[38;5;241m*\u001B[39mkwargs) \u001B[38;5;241m-\u001B[39m\u001B[38;5;241m>\u001B[39m \u001B[38;5;28mlist\u001B[39m[Block]:\n\u001B[1;32m    389\u001B[0m \u001B[38;5;250m    \u001B[39m\u001B[38;5;124;03m\"\"\"\u001B[39;00m\n\u001B[1;32m    390\u001B[0m \u001B[38;5;124;03m    apply the function to my values; return a block if we are not\u001B[39;00m\n\u001B[1;32m    391\u001B[0m \u001B[38;5;124;03m    one\u001B[39;00m\n\u001B[1;32m    392\u001B[0m \u001B[38;5;124;03m    \"\"\"\u001B[39;00m\n\u001B[0;32m--> 393\u001B[0m     result \u001B[38;5;241m=\u001B[39m \u001B[43mfunc\u001B[49m\u001B[43m(\u001B[49m\u001B[38;5;28;43mself\u001B[39;49m\u001B[38;5;241;43m.\u001B[39;49m\u001B[43mvalues\u001B[49m\u001B[43m,\u001B[49m\u001B[43m \u001B[49m\u001B[38;5;241;43m*\u001B[39;49m\u001B[38;5;241;43m*\u001B[39;49m\u001B[43mkwargs\u001B[49m\u001B[43m)\u001B[49m\n\u001B[1;32m    395\u001B[0m     result \u001B[38;5;241m=\u001B[39m maybe_coerce_values(result)\n\u001B[1;32m    396\u001B[0m     \u001B[38;5;28;01mreturn\u001B[39;00m \u001B[38;5;28mself\u001B[39m\u001B[38;5;241m.\u001B[39m_split_op_result(result)\n",
      "File \u001B[0;32m~/github-projects/network-science-learning/venv/lib/python3.9/site-packages/pandas/core/groupby/groupby.py:1995\u001B[0m, in \u001B[0;36mGroupBy._cython_agg_general.<locals>.array_func\u001B[0;34m(values)\u001B[0m\n\u001B[1;32m   1992\u001B[0m     \u001B[38;5;28;01mreturn\u001B[39;00m result\n\u001B[1;32m   1994\u001B[0m \u001B[38;5;28;01massert\u001B[39;00m alt \u001B[38;5;129;01mis\u001B[39;00m \u001B[38;5;129;01mnot\u001B[39;00m \u001B[38;5;28;01mNone\u001B[39;00m\n\u001B[0;32m-> 1995\u001B[0m result \u001B[38;5;241m=\u001B[39m \u001B[38;5;28;43mself\u001B[39;49m\u001B[38;5;241;43m.\u001B[39;49m\u001B[43m_agg_py_fallback\u001B[49m\u001B[43m(\u001B[49m\u001B[43mhow\u001B[49m\u001B[43m,\u001B[49m\u001B[43m \u001B[49m\u001B[43mvalues\u001B[49m\u001B[43m,\u001B[49m\u001B[43m \u001B[49m\u001B[43mndim\u001B[49m\u001B[38;5;241;43m=\u001B[39;49m\u001B[43mdata\u001B[49m\u001B[38;5;241;43m.\u001B[39;49m\u001B[43mndim\u001B[49m\u001B[43m,\u001B[49m\u001B[43m \u001B[49m\u001B[43malt\u001B[49m\u001B[38;5;241;43m=\u001B[39;49m\u001B[43malt\u001B[49m\u001B[43m)\u001B[49m\n\u001B[1;32m   1996\u001B[0m \u001B[38;5;28;01mreturn\u001B[39;00m result\n",
      "File \u001B[0;32m~/github-projects/network-science-learning/venv/lib/python3.9/site-packages/pandas/core/groupby/groupby.py:1946\u001B[0m, in \u001B[0;36mGroupBy._agg_py_fallback\u001B[0;34m(self, how, values, ndim, alt)\u001B[0m\n\u001B[1;32m   1944\u001B[0m     msg \u001B[38;5;241m=\u001B[39m \u001B[38;5;124mf\u001B[39m\u001B[38;5;124m\"\u001B[39m\u001B[38;5;124magg function failed [how->\u001B[39m\u001B[38;5;132;01m{\u001B[39;00mhow\u001B[38;5;132;01m}\u001B[39;00m\u001B[38;5;124m,dtype->\u001B[39m\u001B[38;5;132;01m{\u001B[39;00mser\u001B[38;5;241m.\u001B[39mdtype\u001B[38;5;132;01m}\u001B[39;00m\u001B[38;5;124m]\u001B[39m\u001B[38;5;124m\"\u001B[39m\n\u001B[1;32m   1945\u001B[0m     \u001B[38;5;66;03m# preserve the kind of exception that raised\u001B[39;00m\n\u001B[0;32m-> 1946\u001B[0m     \u001B[38;5;28;01mraise\u001B[39;00m \u001B[38;5;28mtype\u001B[39m(err)(msg) \u001B[38;5;28;01mfrom\u001B[39;00m \u001B[38;5;21;01merr\u001B[39;00m\n\u001B[1;32m   1948\u001B[0m \u001B[38;5;28;01mif\u001B[39;00m ser\u001B[38;5;241m.\u001B[39mdtype \u001B[38;5;241m==\u001B[39m \u001B[38;5;28mobject\u001B[39m:\n\u001B[1;32m   1949\u001B[0m     res_values \u001B[38;5;241m=\u001B[39m res_values\u001B[38;5;241m.\u001B[39mastype(\u001B[38;5;28mobject\u001B[39m, copy\u001B[38;5;241m=\u001B[39m\u001B[38;5;28;01mFalse\u001B[39;00m)\n",
      "\u001B[0;31mTypeError\u001B[0m: agg function failed [how->mean,dtype->object]"
     ]
    }
   ],
   "execution_count": 146
  },
  {
   "metadata": {},
   "cell_type": "code",
   "outputs": [],
   "execution_count": null,
   "source": ""
  }
 ],
 "metadata": {
  "kernelspec": {
   "display_name": "venv",
   "language": "python",
   "name": "python3"
  },
  "language_info": {
   "codemirror_mode": {
    "name": "ipython",
    "version": 3
   },
   "file_extension": ".py",
   "mimetype": "text/x-python",
   "name": "python",
   "nbconvert_exporter": "python",
   "pygments_lexer": "ipython3",
   "version": "3.11.8"
  }
 },
 "nbformat": 4,
 "nbformat_minor": 2
}
